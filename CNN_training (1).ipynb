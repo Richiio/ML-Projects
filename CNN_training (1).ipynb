{
  "cells": [
    {
      "cell_type": "markdown",
      "metadata": {
        "id": "rIRFrO7MA_d0"
      },
      "source": [
        "# CNN using coronary heart disease data "
      ]
    },
    {
      "cell_type": "markdown",
      "metadata": {
        "id": "XWkKDc8PA_d6"
      },
      "source": [
        "This work is aiming at the design and testing of a deep neural network architecture on Coronary heart disease using Tensorflow and Keras."
      ]
    },
    {
      "cell_type": "markdown",
      "metadata": {
        "id": "JsgQ1vJ1A_d6"
      },
      "source": [
        "## Importing libraries"
      ]
    },
    {
      "cell_type": "code",
      "execution_count": null,
      "metadata": {
        "id": "Oc9w-wfiA_d7"
      },
      "outputs": [],
      "source": [
        "import numpy as np\n",
        "import pandas as pd\n",
        "import copy\n",
        "from sklearn import preprocessing\n",
        "import tensorflow as tf\n",
        "from tensorflow import keras\n",
        "import os\n",
        "import pandas as pd\n",
        "from matplotlib import pyplot as plt\n",
        "from numpy.random import seed\n",
        "np.random.seed(2095)"
      ]
    },
    {
      "cell_type": "markdown",
      "metadata": {
        "id": "691wc0QnA_d8"
      },
      "source": [
        "## Reading the data"
      ]
    },
    {
      "cell_type": "code",
      "execution_count": null,
      "metadata": {
        "scrolled": false,
        "id": "BpJBZKnSA_d9",
        "outputId": "a8930611-0c44-4870-8992-5e2438313b61",
        "colab": {
          "base_uri": "https://localhost:8080/"
        }
      },
      "outputs": [
        {
          "output_type": "stream",
          "name": "stdout",
          "text": [
            "Index(['Unnamed: 0', 'Gender', 'Age', 'First Time', 'Mass Gathering',\n",
            "       'Contact', 'Health Facility', 'International Travel', 'Local Travel',\n",
            "       'Symptoms', 'Fever', 'Cough', 'Chest pains', 'Sore throat',\n",
            "       'Runny Nose', 'Difficulty Breathing', 'Abdominal Pain', 'Nausea',\n",
            "       'Vomiting', 'Diarrhea', 'Loss of Taste', 'Loss of smell', 'Fatigue',\n",
            "       'Arthritis', 'Muscle Pain', 'Headache',\n",
            "       'CT Value qRT-PCR Target (E-GENE)', 'CT Value qRT-PCR EAV(IC)',\n",
            "       'CT Value qRT-PCR RDRP-GENE', 'CT Value qRT-N-GENE',\n",
            "       'CT Value qRT-S-GENE', 'CT Value qRT-ORF1ab-GENE',\n",
            "       'RESULT INTERPRETATION'],\n",
            "      dtype='object')\n"
          ]
        }
      ],
      "source": [
        "# read input file\n",
        "ipData = pd.read_csv(\"/content/raw_data - raw_data.csv\")\n",
        "print(ipData.columns) "
      ]
    },
    {
      "cell_type": "markdown",
      "metadata": {
        "id": "uSgzHvo2A_d-"
      },
      "source": [
        "## Drop variables"
      ]
    },
    {
      "cell_type": "code",
      "execution_count": null,
      "metadata": {
        "id": "gRVddjTDA_d_"
      },
      "outputs": [],
      "source": [
        "# data drop\n",
        "#opLabel = np.array(ipData['RESULT INTERPRETATION'])\n",
        "#ipData.drop(['CT Value qRT-PCR Target (E-GENE)', 'CT Value qRT-PCR EAV(IC)','CT Value qRT-PCR RDRP-GENE', 'CT Value qRT-N-GENE','CT Value qRT-S-GENE', 'CT Value qRT-ORF1ab-GENE',], axis = 1, inplace=True)\n",
        "\n",
        "\n",
        "opLabel = np.array(ipData['RESULT INTERPRETATION'])\n",
        "ipData.drop(['CT Value qRT-PCR Target (E-GENE)', 'CT Value qRT-PCR EAV(IC)',\n",
        "       'CT Value qRT-PCR RDRP-GENE', 'CT Value qRT-N-GENE',\n",
        "       'CT Value qRT-S-GENE', 'CT Value qRT-ORF1ab-GENE'], axis = 1, inplace=True)\n",
        "\n"
      ]
    },
    {
      "cell_type": "code",
      "execution_count": null,
      "metadata": {
        "id": "y_0lz8AOA_eA"
      },
      "outputs": [],
      "source": [
        "# dummy variable for categorical variables\n",
        "ipData = pd.get_dummies(ipData,columns=['First Time', 'Mass Gathering',\n",
        "       'Contact', 'Health Facility', 'International Travel', 'Local Travel',\n",
        "       'Symptoms', 'Fever', 'Cough', 'Chest pains', 'Sore throat',\n",
        "       'Runny Nose', 'Difficulty Breathing', 'Abdominal Pain', 'Nausea',\n",
        "       'Vomiting', 'Diarrhea', 'Loss of Taste', 'Loss of smell', 'Fatigue',\n",
        "       'Arthritis', 'Muscle Pain', 'Headache']) \n",
        "\n",
        "varb = np.array(ipData.columns)\n",
        "ipData = np.array(ipData)"
      ]
    },
    {
      "cell_type": "code",
      "execution_count": null,
      "metadata": {
        "scrolled": true,
        "id": "87NNQ8izA_eB",
        "outputId": "2291110c-d94a-407b-e945-2d423edc2a0a",
        "colab": {
          "base_uri": "https://localhost:8080/"
        }
      },
      "outputs": [
        {
          "output_type": "stream",
          "name": "stdout",
          "text": [
            "(9346, 50)\n",
            "['Unnamed: 0' 'Gender' 'Age' 'RESULT INTERPRETATION' 'First Time_0'\n",
            " 'First Time_1' 'Mass Gathering_0' 'Mass Gathering_1' 'Contact_0'\n",
            " 'Contact_1' 'Health Facility_0' 'Health Facility_1'\n",
            " 'International Travel_0' 'International Travel_1' 'Local Travel_0'\n",
            " 'Local Travel_1' 'Symptoms_0' 'Symptoms_1' 'Fever_0' 'Fever_1' 'Cough_0'\n",
            " 'Cough_1' 'Chest pains_0' 'Chest pains_1' 'Sore throat_0' 'Sore throat_1'\n",
            " 'Runny Nose_0' 'Runny Nose_1' 'Difficulty Breathing_0'\n",
            " 'Difficulty Breathing_1' 'Abdominal Pain_0' 'Abdominal Pain_1' 'Nausea_0'\n",
            " 'Nausea_1' 'Vomiting_0' 'Vomiting_1' 'Diarrhea_0' 'Diarrhea_1'\n",
            " 'Loss of Taste_0' 'Loss of Taste_1' 'Loss of smell_0' 'Loss of smell_1'\n",
            " 'Fatigue_0' 'Fatigue_1' 'Arthritis_0' 'Arthritis_1' 'Muscle Pain_0'\n",
            " 'Muscle Pain_1' 'Headache_0' 'Headache_1']\n",
            "7653\n",
            "1693\n"
          ]
        }
      ],
      "source": [
        "print(ipData.shape)\n",
        "print(varb)\n",
        "print(len(opLabel[opLabel==0]))\n",
        "print(len(opLabel[opLabel==1]))"
      ]
    },
    {
      "cell_type": "markdown",
      "metadata": {
        "id": "WsMnNaoXA_eC"
      },
      "source": [
        "## Feature Nomination using LASSO"
      ]
    },
    {
      "cell_type": "code",
      "execution_count": null,
      "metadata": {
        "id": "rmbNvbZpA_eC",
        "outputId": "c7207b56-dcff-465e-b26b-5b6a148c7313",
        "colab": {
          "base_uri": "https://localhost:8080/"
        }
      },
      "outputs": [
        {
          "output_type": "stream",
          "name": "stdout",
          "text": [
            "(50,)\n"
          ]
        }
      ],
      "source": [
        "#Data condensation using LASSO penalty\n",
        "from sklearn.linear_model import Lasso, LogisticRegression\n",
        "\n",
        "\n",
        "featureVote = np.zeros(ipData.shape[1])\n",
        "print(featureVote.shape)\n",
        "\n",
        "iteR = 100\n",
        "\n",
        "for num in range(iteR):\n",
        "    label0_indx = np.where(opLabel==0)[0]   #no COVID-19 disease\n",
        "    label1_indx = np.where(opLabel==1)[0]   #COVID-19 disease \n",
        "    numTrainData0 = 1300\n",
        "    numTrainData1 = 1300\n",
        "    np.random.shuffle(label0_indx)\n",
        "    np.random.shuffle(label1_indx)\n",
        "    \n",
        "    label0_indx_train = label0_indx[0:numTrainData0-1]\n",
        "    label1_indx_train = label1_indx[0:numTrainData1-1]\n",
        "    label0_indx_test  = label0_indx[numTrainData0-1:]\n",
        "    label1_indx_test  = label1_indx[numTrainData1-1:]\n",
        "    \n",
        "    testIndx  = np.append(label0_indx_test,label1_indx_test)\n",
        "    trainIndx = np.append(label0_indx_train,label1_indx_train)    \n",
        "    trainData  =  ipData[trainIndx]\n",
        "    trainLabel =  opLabel[trainIndx]\n",
        "    testData   =  ipData[testIndx]\n",
        "    testLabel  =  opLabel[testIndx]    \n",
        "    \n",
        "    ##%% data standardization\n",
        "    scaler = preprocessing.StandardScaler().fit(trainData)\n",
        "    trainData_scaled = scaler.transform(trainData)\n",
        "    testData_scaled  = scaler.transform(testData)\n",
        "    \n",
        "    ##%% Elastic net and Lasso from scikit\n",
        "    #regr = ElasticNet(random_state=0, alpha=1, l1_ratio=0.03, tol=0.000001, max_iter=100000)\n",
        "    regr = Lasso(random_state=0, alpha=0.006, tol=0.000001, max_iter=100000)\n",
        "    #regr = LogisticRegression(penalty='l1',random_state=0,C=100,tol=0.000001,max_iter=100,class_weight='balanced')\n",
        "    regr.fit(trainData_scaled,trainLabel)\n",
        "    cof = np.abs(regr.coef_)    \n",
        "    colIndx = np.where(cof != 0)[0]\n",
        "    for col in colIndx:\n",
        "        featureVote[col]+=1\n"
      ]
    },
    {
      "cell_type": "code",
      "execution_count": null,
      "metadata": {
        "scrolled": false,
        "id": "snm1dCTeA_eD",
        "outputId": "72e1f5ab-c7fd-4e2f-83cc-f2d9515ab8da",
        "colab": {
          "base_uri": "https://localhost:8080/"
        }
      },
      "outputs": [
        {
          "output_type": "stream",
          "name": "stdout",
          "text": [
            "[  0.   0.   0. 100.   0.   0.   0.   0.   0.   0.   0.   0.   0.   0.\n",
            "   0.   0.   0.   0.   0.   0.   0.   0.   0.   0.   0.   0.   0.   0.\n",
            "   0.   0.   0.   0.   0.   0.   0.   0.   0.   0.   0.   0.   0.   0.\n",
            "   0.   0.   0.   0.   0.   0.   0.   0.]\n",
            "<built-in function iter>\n"
          ]
        }
      ],
      "source": [
        "print(featureVote)\n",
        "print(iter)"
      ]
    },
    {
      "cell_type": "code",
      "execution_count": null,
      "metadata": {
        "scrolled": false,
        "id": "oy6Pmpu_A_eE",
        "outputId": "aa98e839-2236-4ae8-b7e9-850d7a669ba5",
        "colab": {
          "base_uri": "https://localhost:8080/"
        }
      },
      "outputs": [
        {
          "output_type": "stream",
          "name": "stdout",
          "text": [
            "['Unnamed: 0' 'Gender' 'Age' 'RESULT INTERPRETATION' 'First Time_0'\n",
            " 'First Time_1' 'Mass Gathering_0' 'Mass Gathering_1' 'Contact_0'\n",
            " 'Contact_1' 'Health Facility_0' 'Health Facility_1'\n",
            " 'International Travel_0' 'International Travel_1' 'Local Travel_0'\n",
            " 'Local Travel_1' 'Symptoms_0' 'Symptoms_1' 'Fever_0' 'Fever_1' 'Cough_0'\n",
            " 'Cough_1' 'Chest pains_0' 'Chest pains_1' 'Sore throat_0' 'Sore throat_1'\n",
            " 'Runny Nose_0' 'Runny Nose_1' 'Difficulty Breathing_0'\n",
            " 'Difficulty Breathing_1' 'Abdominal Pain_0' 'Abdominal Pain_1' 'Nausea_0'\n",
            " 'Nausea_1' 'Vomiting_0' 'Vomiting_1' 'Diarrhea_0' 'Diarrhea_1'\n",
            " 'Loss of Taste_0' 'Loss of Taste_1' 'Loss of smell_0' 'Loss of smell_1'\n",
            " 'Fatigue_0' 'Fatigue_1' 'Arthritis_0' 'Arthritis_1' 'Muscle Pain_0'\n",
            " 'Muscle Pain_1' 'Headache_0' 'Headache_1']\n"
          ]
        }
      ],
      "source": [
        "# feature nomination via Lasso (from feature 1 to 30)\n",
        "# We keep the dummy variables\n",
        "\n",
        "#thresH = iteR//5. Pick features occuring more than 5 times\n",
        "thresH = 0\n",
        "featureIndx = np.where(featureVote[0:30]>=thresH)[0]\n",
        "featureIndx = np.append(featureIndx, np.arange(30,ipData.shape[1]))\n",
        "print(varb[featureIndx])"
      ]
    },
    {
      "cell_type": "code",
      "execution_count": null,
      "metadata": {
        "id": "yQ6E3TedA_eE",
        "outputId": "100ba371-f5a5-4e69-e360-f65bbed078a9",
        "colab": {
          "base_uri": "https://localhost:8080/"
        }
      },
      "outputs": [
        {
          "output_type": "execute_result",
          "data": {
            "text/plain": [
              "(50,)"
            ]
          },
          "metadata": {},
          "execution_count": 10
        }
      ],
      "source": [
        "featureIndx.shape"
      ]
    },
    {
      "cell_type": "code",
      "execution_count": null,
      "metadata": {
        "scrolled": true,
        "id": "9H3yIvRbA_eF",
        "outputId": "50c7afd7-5d6e-441f-c56d-a6a501329d4f",
        "colab": {
          "base_uri": "https://localhost:8080/"
        }
      },
      "outputs": [
        {
          "output_type": "stream",
          "name": "stdout",
          "text": [
            "[]\n"
          ]
        }
      ],
      "source": [
        "tInx = np.arange(ipData.shape[1])\n",
        "rrInx = tInx[~np.isin(tInx,featureIndx)]\n",
        "print(varb[rrInx])"
      ]
    },
    {
      "cell_type": "markdown",
      "metadata": {
        "id": "KdimpxB3A_eF"
      },
      "source": [
        "# Dataset reduction (Re-run every time you change the number of training data)"
      ]
    },
    {
      "cell_type": "code",
      "execution_count": null,
      "metadata": {
        "id": "k5mWishgA_eG"
      },
      "outputs": [],
      "source": [
        "\n",
        "reduced_data = ipData[:,featureIndx]\n",
        "\n",
        "label0_indx = np.where(opLabel==0)[0]   #no COVID-19\n",
        "label1_indx = np.where(opLabel==1)[0]   #COVID-19\n",
        "numTrainData0 = 4300\n",
        "numTrainData1 = 1169\n",
        "np.random.shuffle(label0_indx)\n",
        "np.random.shuffle(label1_indx)\n",
        "\n",
        "label0_indx_train = label0_indx[0:numTrainData0]\n",
        "label1_indx_train = label1_indx[0:numTrainData1]\n",
        "label0_indx_test  = label0_indx[numTrainData0:]\n",
        "label1_indx_test  = label1_indx[numTrainData1:]\n",
        "\n",
        "testIndx  = np.append(label0_indx_test,label1_indx_test)\n",
        "trainIndx = np.append(label0_indx_train,label1_indx_train)    \n",
        "x_train  =  reduced_data[trainIndx]\n",
        "y_train  =  opLabel[trainIndx]\n",
        "x_test   =  reduced_data[testIndx]\n",
        "y_test   =  opLabel[testIndx]    "
      ]
    },
    {
      "cell_type": "code",
      "execution_count": null,
      "metadata": {
        "id": "HLbw3d9GA_eG",
        "outputId": "cf690145-252a-4ffb-a8bf-d98d332320ce",
        "colab": {
          "base_uri": "https://localhost:8080/"
        }
      },
      "outputs": [
        {
          "output_type": "stream",
          "name": "stdout",
          "text": [
            "3353\n"
          ]
        }
      ],
      "source": [
        "print(len(label0_indx_test))"
      ]
    },
    {
      "cell_type": "code",
      "execution_count": null,
      "metadata": {
        "id": "UIhVKCEvA_eG"
      },
      "outputs": [],
      "source": [
        "scaler = preprocessing.StandardScaler().fit(x_train)\n",
        "x_train = scaler.transform(x_train)\n",
        "x_test  = scaler.transform(x_test)\n",
        "\n",
        "x_train_org = copy.deepcopy(x_train)\n",
        "x_test_org  = copy.deepcopy(x_test)\n",
        "y_train_org     = copy.deepcopy(y_train)\n",
        "y_test_org      = copy.deepcopy(y_test)"
      ]
    },
    {
      "cell_type": "markdown",
      "metadata": {
        "id": "lrJXz4_bA_eH"
      },
      "source": [
        "## t-SNE visualization"
      ]
    },
    {
      "cell_type": "code",
      "execution_count": null,
      "metadata": {
        "id": "ceCYWwyoA_eH"
      },
      "outputs": [],
      "source": [
        "# t-SNE visualization\n",
        "import imblearn\n",
        "from collections import Counter\n",
        "from sklearn.manifold import TSNE\n",
        "import seaborn as sns"
      ]
    },
    {
      "cell_type": "code",
      "execution_count": null,
      "metadata": {
        "id": "YXvwFhmdA_eH",
        "outputId": "0b7b6389-ff5b-439f-af34-d03083230540",
        "colab": {
          "base_uri": "https://localhost:8080/"
        }
      },
      "outputs": [
        {
          "output_type": "stream",
          "name": "stderr",
          "text": [
            "/usr/local/lib/python3.7/dist-packages/sklearn/manifold/_t_sne.py:783: FutureWarning: The default initialization in TSNE will change from 'random' to 'pca' in 1.2.\n",
            "  FutureWarning,\n",
            "/usr/local/lib/python3.7/dist-packages/sklearn/manifold/_t_sne.py:793: FutureWarning: The default learning rate in TSNE will change from 200.0 to 'auto' in 1.2.\n",
            "  FutureWarning,\n"
          ]
        },
        {
          "output_type": "stream",
          "name": "stdout",
          "text": [
            "[t-SNE] Computing 91 nearest neighbors...\n",
            "[t-SNE] Indexed 5469 samples in 0.001s...\n",
            "[t-SNE] Computed neighbors for 5469 samples in 1.021s...\n",
            "[t-SNE] Computed conditional probabilities for sample 1000 / 5469\n",
            "[t-SNE] Computed conditional probabilities for sample 2000 / 5469\n",
            "[t-SNE] Computed conditional probabilities for sample 3000 / 5469\n",
            "[t-SNE] Computed conditional probabilities for sample 4000 / 5469\n",
            "[t-SNE] Computed conditional probabilities for sample 5000 / 5469\n",
            "[t-SNE] Computed conditional probabilities for sample 5469 / 5469\n",
            "[t-SNE] Mean sigma: 0.457601\n",
            "[t-SNE] KL divergence after 250 iterations with early exaggeration: 59.748070\n",
            "[t-SNE] KL divergence after 300 iterations: 1.279664\n"
          ]
        }
      ],
      "source": [
        "X_embedded = TSNE(n_components=3, n_iter = 300, verbose=1).fit_transform(x_train)\n"
      ]
    },
    {
      "cell_type": "code",
      "execution_count": null,
      "metadata": {
        "id": "c1xQgdwJA_eI",
        "outputId": "8b65e795-b1df-4998-c050-4271739fb2b7",
        "colab": {
          "base_uri": "https://localhost:8080/",
          "height": 476
        }
      },
      "outputs": [
        {
          "output_type": "stream",
          "name": "stderr",
          "text": [
            "*c* argument looks like a single numeric RGB or RGBA sequence, which should be avoided as value-mapping will have precedence in case its length matches with *x* & *y*.  Please use the *color* keyword-argument or provide a 2-D array with a single row if you intend to specify the same RGB or RGBA value for all points.\n"
          ]
        },
        {
          "output_type": "display_data",
          "data": {
            "text/plain": [
              "<Figure size 540x540 with 1 Axes>"
            ],
            "image/png": "[encoded data removed]"
          },
          "metadata": {
            "needs_background": "light"
          }
        }
      ],
      "source": [
        "from mpl_toolkits.mplot3d import Axes3D\n",
        "\n",
        "cin = sns.color_palette(\"Set1\")[1]\n",
        "edge_color = []\n",
        "fig = plt.figure()\n",
        "ax = fig.add_subplot(111, projection='3d')\n",
        "ax.set_facecolor('w')\n",
        "ax.scatter(X_embedded[:,0],X_embedded[:,1],X_embedded[:,2],c=[sns.color_palette(\"Set1\")[x] for x in y_train],\\\n",
        "           edgecolors='k',label='no-CHD')\n",
        "ax.scatter(0,0,0,c=cin,edgecolors='k',label='CHD')\n",
        "ax.azim = 20\n",
        "ax.elev = 20\n",
        "ax.set_xlabel(\"t-SNE Dim 1\", size=\"x-large\")\n",
        "ax.set_ylabel(\"t-SNE Dim 2\", size=\"x-large\")\n",
        "ax.set_zlabel(\"t-SNE Dim 3\", size=\"x-large\")\n",
        "plt.title(\"Random subsampling 3:1\",size=\"xx-large\")\n",
        "ax.legend(loc='upper left')\n",
        "fig.set_size_inches(7.5,7.5)\n",
        "fig.savefig('tSNE_RUS.png', dpi=100)"
      ]
    },
    {
      "cell_type": "code",
      "execution_count": null,
      "metadata": {
        "id": "xgg4o1ukA_eI"
      },
      "outputs": [],
      "source": [
        "x_train = x_train.reshape(x_train.shape[0],x_train.shape[1],1)\n",
        "x_test = x_test.reshape(x_test.shape[0],x_test.shape[1],1)"
      ]
    },
    {
      "cell_type": "code",
      "execution_count": null,
      "metadata": {
        "id": "qVsWSkuHA_eI"
      },
      "outputs": [],
      "source": [
        "#%% one-hot-encoding\n",
        "y_train = keras.utils.to_categorical(y_train,2)\n",
        "y_test  = keras.utils.to_categorical(y_test,2)"
      ]
    },
    {
      "cell_type": "code",
      "execution_count": null,
      "metadata": {
        "id": "YazhyXA8A_eJ",
        "outputId": "cfeb3585-b5cb-42c9-bef4-24043dc5df64",
        "colab": {
          "base_uri": "https://localhost:8080/"
        }
      },
      "outputs": [
        {
          "output_type": "execute_result",
          "data": {
            "text/plain": [
              "array([0, 0, 0, ..., 1, 1, 1])"
            ]
          },
          "metadata": {},
          "execution_count": 20
        }
      ],
      "source": [
        "#y_train.shape\n",
        "#y_train\n",
        "y_train_org"
      ]
    },
    {
      "cell_type": "markdown",
      "metadata": {
        "id": "nHadlo7PA_eJ"
      },
      "source": [
        "\n",
        "# Running the part above is MANDATORY for training any Network below"
      ]
    },
    {
      "cell_type": "markdown",
      "metadata": {
        "id": "HZAx-rNsA_eJ"
      },
      "source": [
        "## MLP only"
      ]
    },
    {
      "cell_type": "code",
      "execution_count": null,
      "metadata": {
        "scrolled": true,
        "id": "OiUG5t3eA_eJ",
        "outputId": "045812a7-b97f-44be-9bd7-28a52d0fd63c",
        "colab": {
          "base_uri": "https://localhost:8080/"
        }
      },
      "outputs": [
        {
          "output_type": "stream",
          "name": "stdout",
          "text": [
            "Model: \"model\"\n",
            "_________________________________________________________________\n",
            " Layer (type)                Output Shape              Param #   \n",
            "=================================================================\n",
            " input_1 (InputLayer)        [(None, 50, 1)]           0         \n",
            "                                                                 \n",
            " reshape (Reshape)           (None, 50)                0         \n",
            "                                                                 \n",
            " dense (Dense)               (None, 512)               26112     \n",
            "                                                                 \n",
            " batch_normalization (BatchN  (None, 512)              2048      \n",
            " ormalization)                                                   \n",
            "                                                                 \n",
            " activation (Activation)     (None, 512)               0         \n",
            "                                                                 \n",
            " dropout (Dropout)           (None, 512)               0         \n",
            "                                                                 \n",
            " dense_1 (Dense)             (None, 128)               65664     \n",
            "                                                                 \n",
            " batch_normalization_1 (Batc  (None, 128)              512       \n",
            " hNormalization)                                                 \n",
            "                                                                 \n",
            " activation_1 (Activation)   (None, 128)               0         \n",
            "                                                                 \n",
            " dropout_1 (Dropout)         (None, 128)               0         \n",
            "                                                                 \n",
            " dense_2 (Dense)             (None, 2)                 258       \n",
            "                                                                 \n",
            " activation_2 (Activation)   (None, 2)                 0         \n",
            "                                                                 \n",
            "=================================================================\n",
            "Total params: 94,594\n",
            "Trainable params: 93,314\n",
            "Non-trainable params: 1,280\n",
            "_________________________________________________________________\n"
          ]
        },
        {
          "output_type": "stream",
          "name": "stderr",
          "text": [
            "/usr/local/lib/python3.7/dist-packages/keras/optimizer_v2/adam.py:105: UserWarning: The `lr` argument is deprecated, use `learning_rate` instead.\n",
            "  super(Adam, self).__init__(name, **kwargs)\n"
          ]
        }
      ],
      "source": [
        "# MLP -2\n",
        "inputs = keras.layers.Input(shape=(x_train.shape[1],1))\n",
        "RS0    = keras.layers.Reshape((x_train.shape[1], ))(inputs)\n",
        "FC0    = keras.layers.Dense(512, bias_initializer=keras.initializers.VarianceScaling())(RS0)\n",
        "BN0    = keras.layers.BatchNormalization(axis=-1)(FC0)\n",
        "AC0    = keras.layers.Activation('relu')(BN0)\n",
        "DP0    = keras.layers.Dropout(0.2)(AC0)\n",
        "\n",
        "FC1    = keras.layers.Dense(128, bias_initializer=keras.initializers.VarianceScaling())(DP0)\n",
        "BN1    = keras.layers.BatchNormalization(axis=-1)(FC1)\n",
        "AC1    = keras.layers.Activation('relu')(BN1)\n",
        "DP1    = keras.layers.Dropout(0.2)(AC1)\n",
        "\n",
        "\n",
        "FC2 =   keras.layers.Dense(2, bias_initializer=keras.initializers.VarianceScaling())(DP1)\n",
        "outputs = keras.layers.Activation('softmax')(FC2)\n",
        "\n",
        "myMLP = keras.Model(inputs=inputs,outputs=outputs)\n",
        "myMLP.compile(optimizer=keras.optimizers.Adam(lr=0.01),\n",
        "                 loss='categorical_crossentropy',\n",
        "                 metrics=['accuracy'])\n",
        "myMLP.summary()\n"
      ]
    },
    {
      "cell_type": "code",
      "execution_count": null,
      "metadata": {
        "scrolled": true,
        "id": "fsxAxsZZA_eK",
        "outputId": "da284516-915a-4050-8e2d-4fee0d2fc98e",
        "colab": {
          "base_uri": "https://localhost:8080/"
        }
      },
      "outputs": [
        {
          "output_type": "stream",
          "name": "stdout",
          "text": [
            "Epoch 1/50\n",
            "11/11 [==============================] - 3s 37ms/step - loss: 0.4276 - accuracy: 0.8830\n",
            "Epoch 2/50\n",
            "11/11 [==============================] - 1s 45ms/step - loss: 0.0331 - accuracy: 0.9993\n",
            "Epoch 3/50\n",
            "11/11 [==============================] - 0s 38ms/step - loss: 0.0251 - accuracy: 0.9925\n",
            "Epoch 4/50\n",
            "11/11 [==============================] - 0s 32ms/step - loss: 0.0074 - accuracy: 0.9995\n",
            "Epoch 5/50\n",
            "11/11 [==============================] - 0s 38ms/step - loss: 0.0030 - accuracy: 1.0000\n",
            "Epoch 6/50\n",
            "11/11 [==============================] - 0s 35ms/step - loss: 0.0036 - accuracy: 0.9993\n",
            "Epoch 7/50\n",
            "11/11 [==============================] - 0s 39ms/step - loss: 0.0013 - accuracy: 1.0000\n",
            "Epoch 8/50\n",
            "11/11 [==============================] - 0s 38ms/step - loss: 6.8360e-04 - accuracy: 1.0000\n",
            "Epoch 9/50\n",
            "11/11 [==============================] - 0s 21ms/step - loss: 6.2395e-04 - accuracy: 1.0000\n",
            "Epoch 10/50\n",
            "11/11 [==============================] - 0s 22ms/step - loss: 3.3878e-04 - accuracy: 1.0000\n",
            "Epoch 11/50\n",
            "11/11 [==============================] - 0s 35ms/step - loss: 4.7573e-04 - accuracy: 1.0000\n",
            "Epoch 12/50\n",
            "11/11 [==============================] - 0s 45ms/step - loss: 3.6050e-04 - accuracy: 1.0000\n",
            "Epoch 13/50\n",
            "11/11 [==============================] - 1s 45ms/step - loss: 0.0120 - accuracy: 0.9998\n",
            "Epoch 14/50\n",
            "11/11 [==============================] - 0s 40ms/step - loss: 8.9525e-04 - accuracy: 1.0000\n",
            "Epoch 15/50\n",
            "11/11 [==============================] - 0s 24ms/step - loss: 0.0017 - accuracy: 1.0000\n",
            "Epoch 16/50\n",
            "11/11 [==============================] - 0s 23ms/step - loss: 7.7825e-04 - accuracy: 1.0000\n",
            "Epoch 17/50\n",
            "11/11 [==============================] - 0s 21ms/step - loss: 8.6684e-04 - accuracy: 1.0000\n",
            "Epoch 18/50\n",
            "11/11 [==============================] - 0s 21ms/step - loss: 4.1040e-04 - accuracy: 1.0000\n",
            "Epoch 19/50\n",
            "11/11 [==============================] - 0s 22ms/step - loss: 2.5173e-04 - accuracy: 1.0000\n",
            "Epoch 20/50\n",
            "11/11 [==============================] - 0s 21ms/step - loss: 3.2366e-04 - accuracy: 1.0000\n",
            "Epoch 21/50\n",
            "11/11 [==============================] - 0s 21ms/step - loss: 1.7099e-04 - accuracy: 1.0000\n",
            "Epoch 22/50\n",
            "11/11 [==============================] - 0s 22ms/step - loss: 2.4582e-04 - accuracy: 1.0000\n",
            "Epoch 23/50\n",
            "11/11 [==============================] - 0s 21ms/step - loss: 1.5398e-04 - accuracy: 1.0000\n",
            "Epoch 24/50\n",
            "11/11 [==============================] - 0s 21ms/step - loss: 1.1032e-04 - accuracy: 1.0000\n",
            "Epoch 25/50\n",
            "11/11 [==============================] - 0s 21ms/step - loss: 1.1900e-04 - accuracy: 1.0000\n",
            "Epoch 26/50\n",
            "11/11 [==============================] - 0s 21ms/step - loss: 7.6108e-05 - accuracy: 1.0000\n",
            "Epoch 27/50\n",
            "11/11 [==============================] - 0s 21ms/step - loss: 7.3323e-05 - accuracy: 1.0000\n",
            "Epoch 28/50\n",
            "11/11 [==============================] - 0s 20ms/step - loss: 7.5438e-05 - accuracy: 1.0000\n",
            "Epoch 29/50\n",
            "11/11 [==============================] - 0s 22ms/step - loss: 7.5771e-05 - accuracy: 1.0000\n",
            "Epoch 30/50\n",
            "11/11 [==============================] - 0s 22ms/step - loss: 8.0741e-05 - accuracy: 1.0000\n",
            "Epoch 31/50\n",
            "11/11 [==============================] - 0s 20ms/step - loss: 7.4335e-05 - accuracy: 1.0000\n",
            "Epoch 32/50\n",
            "11/11 [==============================] - 0s 20ms/step - loss: 7.3169e-05 - accuracy: 1.0000\n",
            "Epoch 33/50\n",
            "11/11 [==============================] - 0s 21ms/step - loss: 8.1878e-05 - accuracy: 1.0000\n",
            "Epoch 34/50\n",
            "11/11 [==============================] - 0s 21ms/step - loss: 7.1479e-05 - accuracy: 1.0000\n",
            "Epoch 35/50\n",
            "11/11 [==============================] - 0s 21ms/step - loss: 5.4683e-05 - accuracy: 1.0000\n",
            "Epoch 36/50\n",
            "11/11 [==============================] - 0s 21ms/step - loss: 5.4704e-05 - accuracy: 1.0000\n",
            "Epoch 37/50\n",
            "11/11 [==============================] - 0s 21ms/step - loss: 4.8637e-05 - accuracy: 1.0000\n",
            "Epoch 38/50\n",
            "11/11 [==============================] - 0s 21ms/step - loss: 6.0543e-05 - accuracy: 1.0000\n",
            "Epoch 39/50\n",
            "11/11 [==============================] - 0s 21ms/step - loss: 4.5700e-05 - accuracy: 1.0000\n",
            "Epoch 40/50\n",
            "11/11 [==============================] - 0s 21ms/step - loss: 6.1149e-05 - accuracy: 1.0000\n",
            "Epoch 41/50\n",
            "11/11 [==============================] - 0s 21ms/step - loss: 4.6903e-05 - accuracy: 1.0000\n",
            "Epoch 42/50\n",
            "11/11 [==============================] - 0s 21ms/step - loss: 5.1695e-05 - accuracy: 1.0000\n",
            "Epoch 43/50\n",
            "11/11 [==============================] - 0s 21ms/step - loss: 3.7345e-05 - accuracy: 1.0000\n",
            "Epoch 44/50\n",
            "11/11 [==============================] - 0s 21ms/step - loss: 5.7127e-05 - accuracy: 1.0000\n",
            "Epoch 45/50\n",
            "11/11 [==============================] - 0s 20ms/step - loss: 4.2316e-05 - accuracy: 1.0000\n",
            "Epoch 46/50\n",
            "11/11 [==============================] - 0s 21ms/step - loss: 3.0719e-05 - accuracy: 1.0000\n",
            "Epoch 47/50\n",
            "11/11 [==============================] - 0s 21ms/step - loss: 3.4210e-05 - accuracy: 1.0000\n",
            "Epoch 48/50\n",
            "11/11 [==============================] - 0s 21ms/step - loss: 3.6495e-05 - accuracy: 1.0000\n",
            "Epoch 49/50\n",
            "11/11 [==============================] - 0s 21ms/step - loss: 6.1378e-05 - accuracy: 1.0000\n",
            "Epoch 50/50\n",
            "11/11 [==============================] - 0s 21ms/step - loss: 3.2876e-05 - accuracy: 1.0000\n"
          ]
        },
        {
          "output_type": "execute_result",
          "data": {
            "text/plain": [
              "<keras.callbacks.History at 0x7fed3e80b650>"
            ]
          },
          "metadata": {},
          "execution_count": 22
        }
      ],
      "source": [
        "class_weight = {0: 1, 1: 10}\n",
        "\n",
        "myMLP.fit(x_train,y_train,epochs=50,batch_size=500,verbose=1, class_weight=class_weight)"
      ]
    },
    {
      "cell_type": "code",
      "execution_count": null,
      "metadata": {
        "id": "ikNocVgBA_eK",
        "outputId": "0fb92874-91fe-4576-b5c8-d410ac6bb2c3",
        "colab": {
          "base_uri": "https://localhost:8080/"
        }
      },
      "outputs": [
        {
          "output_type": "stream",
          "name": "stdout",
          "text": [
            "122/122 [==============================] - 1s 2ms/step - loss: 5.3307e-04 - accuracy: 1.0000\n",
            "1.0\n"
          ]
        }
      ],
      "source": [
        "test_loss,test_acc = myMLP.evaluate(x_test,y_test)\n",
        "print(test_acc)"
      ]
    },
    {
      "cell_type": "code",
      "execution_count": null,
      "metadata": {
        "scrolled": true,
        "id": "16J0EcQuA_eK",
        "outputId": "449a9547-b48c-47db-84d9-52f71b0a16cc",
        "colab": {
          "base_uri": "https://localhost:8080/"
        }
      },
      "outputs": [
        {
          "output_type": "stream",
          "name": "stdout",
          "text": [
            "[[3353    0]\n",
            " [   0  524]]\n"
          ]
        }
      ],
      "source": [
        "from sklearn import metrics\n",
        "predlabel = myMLP.predict(x_test)\n",
        "f = np.argmax(predlabel,axis=1)\n",
        "confMat = metrics.confusion_matrix(np.argmax(y_test,axis=1),f)\n",
        "print(confMat)"
      ]
    },
    {
      "cell_type": "markdown",
      "metadata": {
        "id": "Weyx7YtIA_eK"
      },
      "source": [
        "## MLP with additional layers"
      ]
    },
    {
      "cell_type": "code",
      "execution_count": null,
      "metadata": {
        "id": "X88COAn0A_eK",
        "outputId": "f533ee6d-7c0c-416a-b6b8-06693b5b13b3",
        "colab": {
          "base_uri": "https://localhost:8080/"
        }
      },
      "outputs": [
        {
          "output_type": "stream",
          "name": "stdout",
          "text": [
            "Model: \"model_1\"\n",
            "_________________________________________________________________\n",
            " Layer (type)                Output Shape              Param #   \n",
            "=================================================================\n",
            " input_2 (InputLayer)        [(None, 50, 1)]           0         \n",
            "                                                                 \n",
            " reshape_1 (Reshape)         (None, 50)                0         \n",
            "                                                                 \n",
            " dense_3 (Dense)             (None, 64)                3264      \n",
            "                                                                 \n",
            " batch_normalization_2 (Batc  (None, 64)               256       \n",
            " hNormalization)                                                 \n",
            "                                                                 \n",
            " activation_3 (Activation)   (None, 64)                0         \n",
            "                                                                 \n",
            " dropout_2 (Dropout)         (None, 64)                0         \n",
            "                                                                 \n",
            " dense_4 (Dense)             (None, 128)               8320      \n",
            "                                                                 \n",
            " batch_normalization_3 (Batc  (None, 128)              512       \n",
            " hNormalization)                                                 \n",
            "                                                                 \n",
            " activation_4 (Activation)   (None, 128)               0         \n",
            "                                                                 \n",
            " dropout_3 (Dropout)         (None, 128)               0         \n",
            "                                                                 \n",
            " dense_5 (Dense)             (None, 256)               33024     \n",
            "                                                                 \n",
            " batch_normalization_4 (Batc  (None, 256)              1024      \n",
            " hNormalization)                                                 \n",
            "                                                                 \n",
            " activation_5 (Activation)   (None, 256)               0         \n",
            "                                                                 \n",
            " dense_6 (Dense)             (None, 2)                 514       \n",
            "                                                                 \n",
            " activation_6 (Activation)   (None, 2)                 0         \n",
            "                                                                 \n",
            "=================================================================\n",
            "Total params: 46,914\n",
            "Trainable params: 46,018\n",
            "Non-trainable params: 896\n",
            "_________________________________________________________________\n"
          ]
        },
        {
          "output_type": "stream",
          "name": "stderr",
          "text": [
            "/usr/local/lib/python3.7/dist-packages/keras/optimizer_v2/adam.py:105: UserWarning: The `lr` argument is deprecated, use `learning_rate` instead.\n",
            "  super(Adam, self).__init__(name, **kwargs)\n"
          ]
        }
      ],
      "source": [
        "# MLP -3 :: Input => Hidden(64) => Hidden(128) => Hidden(256)\n",
        "inputs = keras.layers.Input(shape=(x_train.shape[1],1))\n",
        "RS0    = keras.layers.Reshape((x_train.shape[1], ))(inputs)\n",
        "FC0    = keras.layers.Dense(64, bias_initializer=keras.initializers.VarianceScaling())(RS0)\n",
        "BN0    = keras.layers.BatchNormalization(axis=-1)(FC0)\n",
        "AC0    = keras.layers.Activation('relu')(BN0)\n",
        "DP0    = keras.layers.Dropout(0.2)(AC0)\n",
        "\n",
        "FC1    = keras.layers.Dense(128, bias_initializer=keras.initializers.VarianceScaling())(DP0)\n",
        "BN1    = keras.layers.BatchNormalization(axis=-1)(FC1)\n",
        "AC1    = keras.layers.Activation('relu')(BN1)\n",
        "DP1    = keras.layers.Dropout(0.2)(AC1)\n",
        "\n",
        "FC2    = keras.layers.Dense(256, bias_initializer=keras.initializers.VarianceScaling())(DP1)\n",
        "BN2    = keras.layers.BatchNormalization(axis=-1)(FC2)\n",
        "AC2    = keras.layers.Activation('relu')(BN2)\n",
        "#DP2    = keras.layers.Dropout(0.2)(AC2)\n",
        "\n",
        "\n",
        "FC3 =   keras.layers.Dense(2, bias_initializer=keras.initializers.VarianceScaling())(AC2)\n",
        "outputs = keras.layers.Activation('softmax')(FC3)\n",
        "\n",
        "myMLP3 = keras.Model(inputs=inputs,outputs=outputs)\n",
        "myMLP3.compile(optimizer=keras.optimizers.Adam(lr=0.01),\n",
        "                 loss='categorical_crossentropy',\n",
        "                 metrics=['accuracy'])\n",
        "myMLP3.summary()"
      ]
    },
    {
      "cell_type": "code",
      "execution_count": null,
      "metadata": {
        "scrolled": true,
        "id": "Yq7HEJ2KA_eL",
        "outputId": "2223c1e4-0a5d-4be5-ad7c-2b4a193aa03e",
        "colab": {
          "base_uri": "https://localhost:8080/"
        }
      },
      "outputs": [
        {
          "output_type": "stream",
          "name": "stdout",
          "text": [
            "171/171 [==============================] - 3s 8ms/step - loss: 0.0778 - accuracy: 0.9826\n"
          ]
        },
        {
          "output_type": "execute_result",
          "data": {
            "text/plain": [
              "<keras.callbacks.History at 0x7fed34044a10>"
            ]
          },
          "metadata": {},
          "execution_count": 26
        }
      ],
      "source": [
        "class_weight = {0: 1, 1: 2.2}\n",
        "\n",
        "myMLP3.fit(x_train,y_train,epochs=1,verbose=1, class_weight=class_weight)"
      ]
    },
    {
      "cell_type": "code",
      "execution_count": null,
      "metadata": {
        "id": "q3TCA-edA_eL",
        "outputId": "6752be1f-1598-41d8-84ed-5c445611acf6",
        "colab": {
          "base_uri": "https://localhost:8080/"
        }
      },
      "outputs": [
        {
          "output_type": "stream",
          "name": "stdout",
          "text": [
            "122/122 [==============================] - 0s 2ms/step - loss: 0.0374 - accuracy: 0.9997\n",
            "0.9997420907020569\n"
          ]
        }
      ],
      "source": [
        "test_loss,test_acc = myMLP3.evaluate(x_test,y_test)\n",
        "print(test_acc)"
      ]
    },
    {
      "cell_type": "code",
      "execution_count": null,
      "metadata": {
        "id": "Dse9GAZ1A_eL",
        "outputId": "7897106c-7ab5-4a66-a493-2c029425993d",
        "colab": {
          "base_uri": "https://localhost:8080/"
        }
      },
      "outputs": [
        {
          "output_type": "stream",
          "name": "stdout",
          "text": [
            "[[3352    1]\n",
            " [   0  524]]\n"
          ]
        }
      ],
      "source": [
        "from sklearn import metrics\n",
        "predlabel = myMLP3.predict(x_test)\n",
        "f = np.argmax(predlabel,axis=1)\n",
        "confMat = metrics.confusion_matrix(np.argmax(y_test,axis=1),f)\n",
        "print(confMat)"
      ]
    },
    {
      "cell_type": "markdown",
      "metadata": {
        "id": "Zy8lhQX_A_eM"
      },
      "source": [
        "# Introducing convolutional layers"
      ]
    },
    {
      "cell_type": "markdown",
      "metadata": {
        "id": "xezo3a3nA_eM"
      },
      "source": [
        "## MLP+Conv :: Input => Hidden(128)  => Conv(4) => Output (2)"
      ]
    },
    {
      "cell_type": "code",
      "execution_count": null,
      "metadata": {
        "id": "HvINvK4HA_eM",
        "outputId": "22860632-c746-4366-b0ae-9432c4a25b8f",
        "colab": {
          "base_uri": "https://localhost:8080/"
        }
      },
      "outputs": [
        {
          "output_type": "stream",
          "name": "stdout",
          "text": [
            "Model: \"model_2\"\n",
            "_________________________________________________________________\n",
            " Layer (type)                Output Shape              Param #   \n",
            "=================================================================\n",
            " input_3 (InputLayer)        [(None, 50, 1)]           0         \n",
            "                                                                 \n",
            " reshape_2 (Reshape)         (None, 50)                0         \n",
            "                                                                 \n",
            " dense_7 (Dense)             (None, 128)               6528      \n",
            "                                                                 \n",
            " batch_normalization_5 (Batc  (None, 128)              512       \n",
            " hNormalization)                                                 \n",
            "                                                                 \n",
            " activation_7 (Activation)   (None, 128)               0         \n",
            "                                                                 \n",
            " dropout_4 (Dropout)         (None, 128)               0         \n",
            "                                                                 \n",
            " reshape_3 (Reshape)         (None, 128, 1)            0         \n",
            "                                                                 \n",
            " conv1d (Conv1D)             (None, 126, 4)            16        \n",
            "                                                                 \n",
            " batch_normalization_6 (Batc  (None, 126, 4)           16        \n",
            " hNormalization)                                                 \n",
            "                                                                 \n",
            " activation_8 (Activation)   (None, 126, 4)            0         \n",
            "                                                                 \n",
            " max_pooling1d (MaxPooling1D  (None, 63, 4)            0         \n",
            " )                                                               \n",
            "                                                                 \n",
            " flatten (Flatten)           (None, 252)               0         \n",
            "                                                                 \n",
            " dense_8 (Dense)             (None, 2)                 506       \n",
            "                                                                 \n",
            " activation_9 (Activation)   (None, 2)                 0         \n",
            "                                                                 \n",
            "=================================================================\n",
            "Total params: 7,578\n",
            "Trainable params: 7,314\n",
            "Non-trainable params: 264\n",
            "_________________________________________________________________\n"
          ]
        }
      ],
      "source": [
        "\n",
        "inputs = keras.layers.Input(shape=(x_train.shape[1],1))\n",
        "RS0    = keras.layers.Reshape((x_train.shape[1], ))(inputs)\n",
        "FC0    = keras.layers.Dense(128, bias_initializer=keras.initializers.VarianceScaling())(RS0)\n",
        "BN0    = keras.layers.BatchNormalization(axis=-1)(FC0)\n",
        "AC0    = keras.layers.Activation('relu')(BN0)\n",
        "DP0    = keras.layers.Dropout(0.2)(AC0)\n",
        "\n",
        "RS1    = keras.layers.Reshape((128,1))(DP0)\n",
        "FC1    = keras.layers.Conv1D(4,3,strides=1)(RS1)\n",
        "BN1    = keras.layers.BatchNormalization(axis=-1)(FC1)\n",
        "AC1    = keras.layers.Activation('relu')(BN1)\n",
        "Pool1 = keras.layers.MaxPool1D(pool_size=2)(AC1)\n",
        "FL1   = keras.layers.Flatten()(Pool1)\n",
        "\n",
        "FC3 =   keras.layers.Dense(2, bias_initializer=keras.initializers.VarianceScaling())(FL1)\n",
        "outputs = keras.layers.Activation('softmax')(FC3)\n",
        "\n",
        "myCNN1D1 = keras.Model(inputs=inputs,outputs=outputs)\n",
        "myCNN1D1.compile(optimizer=keras.optimizers.Adam(),\n",
        "                 loss='categorical_crossentropy',\n",
        "                 metrics=['accuracy'])\n",
        "\n",
        "myCNN1D1.summary()\n"
      ]
    },
    {
      "cell_type": "code",
      "execution_count": null,
      "metadata": {
        "scrolled": true,
        "id": "XdbTxg_cA_eM",
        "outputId": "254a957f-0fe1-4f4c-e22d-84a9e9725f78",
        "colab": {
          "base_uri": "https://localhost:8080/"
        }
      },
      "outputs": [
        {
          "output_type": "stream",
          "name": "stdout",
          "text": [
            "171/171 [==============================] - 2s 6ms/step - loss: 0.3390 - accuracy: 0.9258\n"
          ]
        },
        {
          "output_type": "execute_result",
          "data": {
            "text/plain": [
              "<keras.callbacks.History at 0x7fed35783050>"
            ]
          },
          "metadata": {},
          "execution_count": 30
        }
      ],
      "source": [
        "class_weight = {0: 1, 1: 4}\n",
        "\n",
        "myCNN1D1.fit(x_train,y_train,epochs=1,verbose=1, class_weight=class_weight)"
      ]
    },
    {
      "cell_type": "code",
      "execution_count": null,
      "metadata": {
        "id": "6Dy9oBaRA_eN",
        "outputId": "9fa0ef64-4646-46b4-8250-e1b79b6fb4a5",
        "colab": {
          "base_uri": "https://localhost:8080/"
        }
      },
      "outputs": [
        {
          "output_type": "stream",
          "name": "stdout",
          "text": [
            "122/122 [==============================] - 1s 3ms/step - loss: 0.1404 - accuracy: 1.0000\n",
            "1.0\n"
          ]
        }
      ],
      "source": [
        "test_loss,test_acc = myCNN1D1.evaluate(x_test,y_test)\n",
        "print(test_acc)"
      ]
    },
    {
      "cell_type": "code",
      "execution_count": null,
      "metadata": {
        "id": "KFPyOo18A_eN",
        "outputId": "f4d93e16-4921-49ab-9ca6-6b384b12e28f",
        "colab": {
          "base_uri": "https://localhost:8080/"
        }
      },
      "outputs": [
        {
          "output_type": "stream",
          "name": "stdout",
          "text": [
            "[[3353    0]\n",
            " [   0  524]]\n"
          ]
        }
      ],
      "source": [
        "from sklearn import metrics\n",
        "predlabel = myCNN1D1.predict(x_test)\n",
        "f = np.argmax(predlabel,axis=1)\n",
        "confMat = metrics.confusion_matrix(np.argmax(y_test,axis=1),f)\n",
        "print(confMat)"
      ]
    },
    {
      "cell_type": "markdown",
      "metadata": {
        "id": "vrB3Fjx_A_eN"
      },
      "source": [
        "##  MLP+CONV: Input => Hidden(128)  => Conv(4) => Conv(8) => Output (2)"
      ]
    },
    {
      "cell_type": "code",
      "execution_count": null,
      "metadata": {
        "id": "9JlUgxKPA_eN",
        "outputId": "b918afb7-9e05-47c4-caa6-9994e5f3af80",
        "colab": {
          "base_uri": "https://localhost:8080/"
        }
      },
      "outputs": [
        {
          "output_type": "stream",
          "name": "stdout",
          "text": [
            "Model: \"model_3\"\n",
            "_________________________________________________________________\n",
            " Layer (type)                Output Shape              Param #   \n",
            "=================================================================\n",
            " input_4 (InputLayer)        [(None, 50, 1)]           0         \n",
            "                                                                 \n",
            " reshape_4 (Reshape)         (None, 50)                0         \n",
            "                                                                 \n",
            " dense_9 (Dense)             (None, 128)               6528      \n",
            "                                                                 \n",
            " batch_normalization_7 (Batc  (None, 128)              512       \n",
            " hNormalization)                                                 \n",
            "                                                                 \n",
            " activation_10 (Activation)  (None, 128)               0         \n",
            "                                                                 \n",
            " dropout_5 (Dropout)         (None, 128)               0         \n",
            "                                                                 \n",
            " reshape_5 (Reshape)         (None, 128, 1)            0         \n",
            "                                                                 \n",
            " conv1d_1 (Conv1D)           (None, 126, 4)            16        \n",
            "                                                                 \n",
            " batch_normalization_8 (Batc  (None, 126, 4)           16        \n",
            " hNormalization)                                                 \n",
            "                                                                 \n",
            " activation_11 (Activation)  (None, 126, 4)            0         \n",
            "                                                                 \n",
            " average_pooling1d (AverageP  (None, 63, 4)            0         \n",
            " ooling1D)                                                       \n",
            "                                                                 \n",
            " conv1d_2 (Conv1D)           (None, 59, 8)             168       \n",
            "                                                                 \n",
            " batch_normalization_9 (Batc  (None, 59, 8)            32        \n",
            " hNormalization)                                                 \n",
            "                                                                 \n",
            " activation_12 (Activation)  (None, 59, 8)             0         \n",
            "                                                                 \n",
            " average_pooling1d_1 (Averag  (None, 29, 8)            0         \n",
            " ePooling1D)                                                     \n",
            "                                                                 \n",
            " flatten_1 (Flatten)         (None, 232)               0         \n",
            "                                                                 \n",
            " dense_10 (Dense)            (None, 2)                 466       \n",
            "                                                                 \n",
            " activation_13 (Activation)  (None, 2)                 0         \n",
            "                                                                 \n",
            "=================================================================\n",
            "Total params: 7,738\n",
            "Trainable params: 7,458\n",
            "Non-trainable params: 280\n",
            "_________________________________________________________________\n"
          ]
        }
      ],
      "source": [
        "inputs = keras.layers.Input(shape=(x_train.shape[1],1))\n",
        "RS0    = keras.layers.Reshape((x_train.shape[1], ))(inputs)\n",
        "FC0    = keras.layers.Dense(128, bias_initializer=keras.initializers.VarianceScaling())(RS0)\n",
        "BN0    = keras.layers.BatchNormalization(axis=-1)(FC0)\n",
        "AC0    = keras.layers.Activation('relu')(BN0)\n",
        "DP0    = keras.layers.Dropout(0.2)(AC0)\n",
        "\n",
        "RS1    = keras.layers.Reshape((128,1))(DP0)\n",
        "FC1    = keras.layers.Conv1D(4,3,strides=1)(RS1)\n",
        "BN1    = keras.layers.BatchNormalization(axis=-1)(FC1)\n",
        "AC1    = keras.layers.Activation('relu')(BN1)\n",
        "Pool1 = keras.layers.AveragePooling1D(pool_size=2)(AC1)\n",
        "\n",
        "FC2    = keras.layers.Conv1D(8,5,strides=1)(Pool1)\n",
        "BN2    = keras.layers.BatchNormalization(axis=-1)(FC2)\n",
        "AC2    = keras.layers.Activation('relu')(BN2)\n",
        "Pool2 = keras.layers.AveragePooling1D(pool_size=2)(AC2)\n",
        "\n",
        "FL1   = keras.layers.Flatten()(Pool2)\n",
        "\n",
        "FC3 =   keras.layers.Dense(2, bias_initializer=keras.initializers.VarianceScaling())(FL1)\n",
        "outputs = keras.layers.Activation('softmax')(FC3)\n",
        "\n",
        "myCNN1D2 = keras.Model(inputs=inputs,outputs=outputs)\n",
        "myCNN1D2.compile(optimizer=keras.optimizers.Adam(),\n",
        "                 loss='categorical_crossentropy',\n",
        "                 metrics=['accuracy'])\n",
        "\n",
        "myCNN1D2.summary()"
      ]
    },
    {
      "cell_type": "code",
      "execution_count": null,
      "metadata": {
        "scrolled": false,
        "id": "CBfdRbEdA_eO",
        "outputId": "2464bdaa-0350-4463-8d41-a77ea81faee0",
        "colab": {
          "base_uri": "https://localhost:8080/"
        }
      },
      "outputs": [
        {
          "output_type": "stream",
          "name": "stdout",
          "text": [
            "171/171 [==============================] - 3s 8ms/step - loss: 0.3248 - accuracy: 0.9378\n"
          ]
        },
        {
          "output_type": "execute_result",
          "data": {
            "text/plain": [
              "<keras.callbacks.History at 0x7fed3539cf50>"
            ]
          },
          "metadata": {},
          "execution_count": 34
        }
      ],
      "source": [
        "class_weight = {0: 1, 1: 4.5}\n",
        "\n",
        "myCNN1D2.fit(x_train,y_train,epochs=1,verbose=1, class_weight=class_weight)"
      ]
    },
    {
      "cell_type": "code",
      "execution_count": null,
      "metadata": {
        "scrolled": true,
        "id": "Y__vXceeA_eO",
        "outputId": "8afd2084-102c-4e81-ffd4-68a875d04480",
        "colab": {
          "base_uri": "https://localhost:8080/"
        }
      },
      "outputs": [
        {
          "output_type": "stream",
          "name": "stdout",
          "text": [
            "122/122 [==============================] - 1s 3ms/step - loss: 0.2190 - accuracy: 0.8713\n",
            "0.871292233467102\n"
          ]
        }
      ],
      "source": [
        "test_loss,test_acc = myCNN1D2.evaluate(x_test,y_test)\n",
        "print(test_acc)"
      ]
    },
    {
      "cell_type": "code",
      "execution_count": null,
      "metadata": {
        "id": "hB3Ov6xWA_eP",
        "outputId": "751fa84e-eb5a-445d-e02f-aa90ed7b6e3f",
        "colab": {
          "base_uri": "https://localhost:8080/"
        }
      },
      "outputs": [
        {
          "output_type": "stream",
          "name": "stdout",
          "text": [
            "[[3353    0]\n",
            " [ 499   25]]\n"
          ]
        }
      ],
      "source": [
        "from sklearn import metrics\n",
        "predlabel = myCNN1D2.predict(x_test)\n",
        "f = np.argmax(predlabel,axis=1)\n",
        "confMat = metrics.confusion_matrix(np.argmax(y_test,axis=1),f)\n",
        "print(confMat)"
      ]
    },
    {
      "cell_type": "markdown",
      "metadata": {
        "id": "0fkk7ejZA_eP"
      },
      "source": [
        "## MLP+Conv :: Input => Hidden(64) => Conv(2) => Hidden(512)  "
      ]
    },
    {
      "cell_type": "code",
      "execution_count": null,
      "metadata": {
        "scrolled": true,
        "id": "shZnonXdA_eP",
        "outputId": "ad6c1d83-8af9-431f-e92c-f6b41afb0dc5",
        "colab": {
          "base_uri": "https://localhost:8080/"
        }
      },
      "outputs": [
        {
          "output_type": "stream",
          "name": "stdout",
          "text": [
            "Model: \"model_4\"\n",
            "_________________________________________________________________\n",
            " Layer (type)                Output Shape              Param #   \n",
            "=================================================================\n",
            " input_5 (InputLayer)        [(None, 50, 1)]           0         \n",
            "                                                                 \n",
            " reshape_6 (Reshape)         (None, 50)                0         \n",
            "                                                                 \n",
            " dense_11 (Dense)            (None, 32)                1632      \n",
            "                                                                 \n",
            " batch_normalization_10 (Bat  (None, 32)               128       \n",
            " chNormalization)                                                \n",
            "                                                                 \n",
            " activation_14 (Activation)  (None, 32)                0         \n",
            "                                                                 \n",
            " dropout_6 (Dropout)         (None, 32)                0         \n",
            "                                                                 \n",
            " reshape_7 (Reshape)         (None, 32, 1)             0         \n",
            "                                                                 \n",
            " conv1d_3 (Conv1D)           (None, 30, 2)             8         \n",
            "                                                                 \n",
            " batch_normalization_11 (Bat  (None, 30, 2)            8         \n",
            " chNormalization)                                                \n",
            "                                                                 \n",
            " activation_15 (Activation)  (None, 30, 2)             0         \n",
            "                                                                 \n",
            " max_pooling1d_1 (MaxPooling  (None, 15, 2)            0         \n",
            " 1D)                                                             \n",
            "                                                                 \n",
            " flatten_2 (Flatten)         (None, 30)                0         \n",
            "                                                                 \n",
            " dense_12 (Dense)            (None, 512)               15872     \n",
            "                                                                 \n",
            " batch_normalization_12 (Bat  (None, 512)              2048      \n",
            " chNormalization)                                                \n",
            "                                                                 \n",
            " activation_16 (Activation)  (None, 512)               0         \n",
            "                                                                 \n",
            " dense_13 (Dense)            (None, 2)                 1026      \n",
            "                                                                 \n",
            " activation_17 (Activation)  (None, 2)                 0         \n",
            "                                                                 \n",
            "=================================================================\n",
            "Total params: 20,722\n",
            "Trainable params: 19,630\n",
            "Non-trainable params: 1,092\n",
            "_________________________________________________________________\n"
          ]
        }
      ],
      "source": [
        "\n",
        "inputs = keras.layers.Input(shape=(x_train.shape[1],1))\n",
        "RS0    = keras.layers.Reshape((x_train.shape[1], ))(inputs)\n",
        "FC0    = keras.layers.Dense(32, bias_initializer=keras.initializers.VarianceScaling())(RS0)\n",
        "BN0    = keras.layers.BatchNormalization(axis=-1)(FC0)\n",
        "AC0    = keras.layers.Activation('relu')(BN0)\n",
        "DP0    = keras.layers.Dropout(0.2)(AC0)\n",
        "\n",
        "RS1    = keras.layers.Reshape((32,1))(DP0)\n",
        "FC1    = keras.layers.Conv1D(2,3,strides=1)(RS1)\n",
        "BN1    = keras.layers.BatchNormalization(axis=-1)(FC1)\n",
        "AC1    = keras.layers.Activation('relu')(BN1)\n",
        "Pool1 = keras.layers.MaxPool1D(pool_size=2)(AC1)\n",
        "FL1   = keras.layers.Flatten()(Pool1)\n",
        "\n",
        "FC2    = keras.layers.Dense(512, bias_initializer=keras.initializers.VarianceScaling())(FL1)\n",
        "BN2    = keras.layers.BatchNormalization(axis=-1)(FC2)\n",
        "AC2    = keras.layers.Activation('relu')(BN2)\n",
        "#DP2    = keras.layers.Dropout(0.2)(AC2)\n",
        "\n",
        "\n",
        "FC3 =   keras.layers.Dense(2, bias_initializer=keras.initializers.VarianceScaling())(AC2)\n",
        "outputs = keras.layers.Activation('softmax')(FC3)\n",
        "\n",
        "myCNN1D3 = keras.Model(inputs=inputs,outputs=outputs)\n",
        "myCNN1D3.compile(optimizer=keras.optimizers.Adam(),\n",
        "                 loss='categorical_crossentropy',\n",
        "                 metrics=['accuracy'])\n",
        "myCNN1D3.summary()"
      ]
    },
    {
      "cell_type": "code",
      "execution_count": null,
      "metadata": {
        "scrolled": true,
        "id": "NeB9L_t_A_eQ",
        "outputId": "0541a0cc-2942-45a1-88ed-6c76df7ad839",
        "colab": {
          "base_uri": "https://localhost:8080/"
        }
      },
      "outputs": [
        {
          "output_type": "stream",
          "name": "stdout",
          "text": [
            "Epoch 1/5\n",
            "171/171 [==============================] - 2s 5ms/step - loss: 1.8141 - accuracy: 0.6237\n",
            "Epoch 2/5\n",
            "171/171 [==============================] - 1s 5ms/step - loss: 0.4486 - accuracy: 0.9042\n",
            "Epoch 3/5\n",
            "171/171 [==============================] - 1s 5ms/step - loss: 0.2391 - accuracy: 0.9523\n",
            "Epoch 4/5\n",
            "171/171 [==============================] - 1s 5ms/step - loss: 0.1171 - accuracy: 0.9786\n",
            "Epoch 5/5\n",
            "171/171 [==============================] - 1s 5ms/step - loss: 0.0691 - accuracy: 0.9887\n"
          ]
        },
        {
          "output_type": "execute_result",
          "data": {
            "text/plain": [
              "<keras.callbacks.History at 0x7fed2e7e90d0>"
            ]
          },
          "metadata": {},
          "execution_count": 38
        }
      ],
      "source": [
        "class_weight = {0: 1, 1: 50}\n",
        "\n",
        "myCNN1D3.fit(x_train,y_train,epochs=5,verbose=1, class_weight=class_weight)"
      ]
    },
    {
      "cell_type": "code",
      "execution_count": null,
      "metadata": {
        "scrolled": true,
        "id": "Oe4J42DkA_eQ",
        "outputId": "c36527e2-9599-434f-8870-2e0931d95b5d",
        "colab": {
          "base_uri": "https://localhost:8080/"
        }
      },
      "outputs": [
        {
          "output_type": "stream",
          "name": "stdout",
          "text": [
            "122/122 [==============================] - 0s 2ms/step - loss: 0.0149 - accuracy: 0.9946\n",
            "0.9945834279060364\n"
          ]
        }
      ],
      "source": [
        "test_loss,test_acc = myCNN1D3.evaluate(x_test,y_test)\n",
        "print(test_acc)"
      ]
    },
    {
      "cell_type": "code",
      "execution_count": null,
      "metadata": {
        "scrolled": true,
        "id": "_QctzVaZA_eQ",
        "outputId": "1a7ff1d1-e84a-4ad9-d34e-3ea7e083ee37",
        "colab": {
          "base_uri": "https://localhost:8080/"
        }
      },
      "outputs": [
        {
          "output_type": "stream",
          "name": "stdout",
          "text": [
            "[[3332   21]\n",
            " [   0  524]]\n"
          ]
        }
      ],
      "source": [
        "from sklearn import metrics\n",
        "predlabel = myCNN1D3.predict(x_test)\n",
        "f = np.argmax(predlabel,axis=1)\n",
        "confMat = metrics.confusion_matrix(np.argmax(y_test,axis=1),f)\n",
        "print(confMat)"
      ]
    },
    {
      "cell_type": "markdown",
      "metadata": {
        "id": "SFG4m7bjA_eR"
      },
      "source": [
        "## MLP+ CONV: Input => Dense(64) => Conv(2) => Conv(4) = Dense(512) => Dense (2) [Best model]"
      ]
    },
    {
      "cell_type": "code",
      "execution_count": null,
      "metadata": {
        "id": "k7MzVyG8A_eR"
      },
      "outputs": [],
      "source": [
        "inputs = keras.layers.Input(shape=(x_train.shape[1],1))\n",
        "RS0    = keras.layers.Reshape((x_train.shape[1], ))(inputs)\n",
        "FC0    = keras.layers.Dense(64, bias_initializer=keras.initializers.VarianceScaling())(RS0)\n",
        "BN0    = keras.layers.BatchNormalization(axis=-1)(FC0)\n",
        "AC0    = keras.layers.Activation('relu')(BN0)\n",
        "DP0    = keras.layers.Dropout(0.2)(AC0)\n",
        "\n",
        "RS1    = keras.layers.Reshape((64,1))(DP0)\n",
        "FC1    = keras.layers.Conv1D(2,3,strides=1)(RS1)\n",
        "BN1    = keras.layers.BatchNormalization(axis=-1)(FC1)\n",
        "AC1    = keras.layers.Activation('relu')(BN1)\n",
        "Pool1  = keras.layers.AveragePooling1D(pool_size=2)(AC1)\n",
        "\n",
        "FC2    = keras.layers.Conv1D(4,5,strides=1)(Pool1)\n",
        "BN2    = keras.layers.BatchNormalization(axis=-1)(FC2)\n",
        "AC2    = keras.layers.Activation('relu')(BN2)\n",
        "Pool2  = keras.layers.AveragePooling1D(pool_size=2)(AC2)\n",
        "\n",
        "FL1    = keras.layers.Flatten()(Pool2)\n",
        "\n",
        "FC3    = keras.layers.Dense(512, bias_initializer=keras.initializers.VarianceScaling())(FL1)\n",
        "BN3    = keras.layers.BatchNormalization(axis=-1)(FC3)\n",
        "AC3    = keras.layers.Activation('relu')(BN3)\n",
        "DP3    = keras.layers.Dropout(0.2)(AC3)\n",
        "\n",
        "\n",
        "FC4    = keras.layers.Dense(2)(DP3)\n",
        "outputs = keras.layers.Activation('softmax')(FC4)\n",
        "\n",
        "myCNN1D4 = keras.Model(inputs=inputs,outputs=outputs)\n",
        "myCNN1D4.compile(optimizer=keras.optimizers.Adam(),\n",
        "                 loss='categorical_crossentropy',\n",
        "                 metrics=['accuracy'])\n",
        "\n",
        "#myCNN1D4.summary()"
      ]
    },
    {
      "cell_type": "code",
      "execution_count": null,
      "metadata": {
        "scrolled": true,
        "id": "2JAg6OzpA_eR",
        "outputId": "a4c7be98-63b6-4083-9bbe-cb31eff1c30e",
        "colab": {
          "base_uri": "https://localhost:8080/"
        }
      },
      "outputs": [
        {
          "output_type": "stream",
          "name": "stdout",
          "text": [
            "171/171 [==============================] - 3s 7ms/step - loss: 0.2526 - accuracy: 0.9316\n"
          ]
        },
        {
          "output_type": "execute_result",
          "data": {
            "text/plain": [
              "<keras.callbacks.History at 0x7fed2db8e350>"
            ]
          },
          "metadata": {},
          "execution_count": 42
        }
      ],
      "source": [
        "class_weight = {0: 1, 1: 2.9}\n",
        "\n",
        "myCNN1D4.fit(x_train,y_train,epochs=1,verbose=1, class_weight=class_weight)"
      ]
    },
    {
      "cell_type": "code",
      "execution_count": null,
      "metadata": {
        "scrolled": true,
        "id": "AuAKenfaA_eR",
        "outputId": "d8275915-c9e4-49a6-db49-f134bd06483c",
        "colab": {
          "base_uri": "https://localhost:8080/"
        }
      },
      "outputs": [
        {
          "output_type": "stream",
          "name": "stdout",
          "text": [
            "122/122 [==============================] - 1s 3ms/step - loss: 0.1264 - accuracy: 0.9634\n",
            "0.9633737206459045\n"
          ]
        }
      ],
      "source": [
        "test_loss,test_acc = myCNN1D4.evaluate(x_test,y_test)\n",
        "print(test_acc)"
      ]
    },
    {
      "cell_type": "code",
      "execution_count": null,
      "metadata": {
        "scrolled": true,
        "id": "5qEDoFU5A_eS",
        "outputId": "0ea00c1a-5013-451b-a4f3-98d14b33454d",
        "colab": {
          "base_uri": "https://localhost:8080/"
        }
      },
      "outputs": [
        {
          "output_type": "stream",
          "name": "stdout",
          "text": [
            "[[3352    1]\n",
            " [ 141  383]]\n"
          ]
        }
      ],
      "source": [
        "from sklearn import metrics\n",
        "predlabel = myCNN1D4.predict(x_test)\n",
        "f = np.argmax(predlabel,axis=1)\n",
        "confMat = metrics.confusion_matrix(np.argmax(y_test,axis=1),f)\n",
        "print(confMat)"
      ]
    },
    {
      "cell_type": "code",
      "execution_count": null,
      "metadata": {
        "id": "Yy4EVTSOA_eS",
        "outputId": "598d6283-1ddb-4e87-8528-6ad66842cfd9",
        "colab": {
          "base_uri": "https://localhost:8080/"
        }
      },
      "outputs": [
        {
          "output_type": "execute_result",
          "data": {
            "text/plain": [
              "0.024390243902439025"
            ]
          },
          "metadata": {},
          "execution_count": 45
        }
      ],
      "source": [
        "y_train @ np.transpose(np.array([0, 1]))\n",
        "1/41"
      ]
    },
    {
      "cell_type": "markdown",
      "metadata": {
        "id": "TnXFvvzBA_eS"
      },
      "source": [
        "## Input => Dense(64) => Conv(2) => Conv(4) = Conv(8) => Dense (2)"
      ]
    },
    {
      "cell_type": "code",
      "execution_count": null,
      "metadata": {
        "id": "IJVDvShyA_eS",
        "outputId": "0c24064e-7720-4144-a68d-89af5aec3965",
        "colab": {
          "base_uri": "https://localhost:8080/"
        }
      },
      "outputs": [
        {
          "output_type": "stream",
          "name": "stdout",
          "text": [
            "Model: \"model_6\"\n",
            "_________________________________________________________________\n",
            " Layer (type)                Output Shape              Param #   \n",
            "=================================================================\n",
            " input_7 (InputLayer)        [(None, 50, 1)]           0         \n",
            "                                                                 \n",
            " reshape_10 (Reshape)        (None, 50)                0         \n",
            "                                                                 \n",
            " dense_17 (Dense)            (None, 64)                3264      \n",
            "                                                                 \n",
            " batch_normalization_17 (Bat  (None, 64)               256       \n",
            " chNormalization)                                                \n",
            "                                                                 \n",
            " activation_23 (Activation)  (None, 64)                0         \n",
            "                                                                 \n",
            " dropout_9 (Dropout)         (None, 64)                0         \n",
            "                                                                 \n",
            " reshape_11 (Reshape)        (None, 64, 1)             0         \n",
            "                                                                 \n",
            " conv1d_6 (Conv1D)           (None, 62, 2)             8         \n",
            "                                                                 \n",
            " batch_normalization_18 (Bat  (None, 62, 2)            8         \n",
            " chNormalization)                                                \n",
            "                                                                 \n",
            " activation_24 (Activation)  (None, 62, 2)             0         \n",
            "                                                                 \n",
            " average_pooling1d_4 (Averag  (None, 31, 2)            0         \n",
            " ePooling1D)                                                     \n",
            "                                                                 \n",
            " conv1d_7 (Conv1D)           (None, 27, 4)             44        \n",
            "                                                                 \n",
            " batch_normalization_19 (Bat  (None, 27, 4)            16        \n",
            " chNormalization)                                                \n",
            "                                                                 \n",
            " activation_25 (Activation)  (None, 27, 4)             0         \n",
            "                                                                 \n",
            " average_pooling1d_5 (Averag  (None, 13, 4)            0         \n",
            " ePooling1D)                                                     \n",
            "                                                                 \n",
            " conv1d_8 (Conv1D)           (None, 7, 6)              174       \n",
            "                                                                 \n",
            " batch_normalization_20 (Bat  (None, 7, 6)             24        \n",
            " chNormalization)                                                \n",
            "                                                                 \n",
            " activation_26 (Activation)  (None, 7, 6)              0         \n",
            "                                                                 \n",
            " average_pooling1d_6 (Averag  (None, 3, 6)             0         \n",
            " ePooling1D)                                                     \n",
            "                                                                 \n",
            " flatten_4 (Flatten)         (None, 18)                0         \n",
            "                                                                 \n",
            " dense_18 (Dense)            (None, 2)                 38        \n",
            "                                                                 \n",
            " activation_27 (Activation)  (None, 2)                 0         \n",
            "                                                                 \n",
            "=================================================================\n",
            "Total params: 3,832\n",
            "Trainable params: 3,680\n",
            "Non-trainable params: 152\n",
            "_________________________________________________________________\n"
          ]
        }
      ],
      "source": [
        "inputs = keras.layers.Input(shape=(x_train.shape[1],1))\n",
        "RS0    = keras.layers.Reshape((x_train.shape[1], ))(inputs)\n",
        "FC0    = keras.layers.Dense(64, bias_initializer=keras.initializers.VarianceScaling())(RS0)\n",
        "BN0    = keras.layers.BatchNormalization(axis=-1)(FC0)\n",
        "AC0    = keras.layers.Activation('relu')(BN0)\n",
        "DP0    = keras.layers.Dropout(0.2)(AC0)\n",
        "\n",
        "RS1    = keras.layers.Reshape((64,1))(DP0)\n",
        "FC1    = keras.layers.Conv1D(2,3,strides=1)(RS1)\n",
        "BN1    = keras.layers.BatchNormalization(axis=-1)(FC1)\n",
        "AC1    = keras.layers.Activation('relu')(BN1)\n",
        "Pool1  = keras.layers.AveragePooling1D(pool_size=2)(AC1)\n",
        "\n",
        "FC2    = keras.layers.Conv1D(4,5,strides=1)(Pool1)\n",
        "BN2    = keras.layers.BatchNormalization(axis=-1)(FC2)\n",
        "AC2    = keras.layers.Activation('relu')(BN2)\n",
        "Pool2  = keras.layers.AveragePooling1D(pool_size=2)(AC2)\n",
        "\n",
        "\n",
        "FC3    = keras.layers.Conv1D(6,7,strides=1)(Pool2)\n",
        "BN3    = keras.layers.BatchNormalization(axis=-1)(FC3)\n",
        "AC3    = keras.layers.Activation('relu')(BN3)\n",
        "Pool3  = keras.layers.AveragePooling1D(pool_size=2)(AC3)\n",
        "\n",
        "\n",
        "\n",
        "\n",
        "FL1    = keras.layers.Flatten()(Pool3)\n",
        "\n",
        "#FC3    = keras.layers.Dense(512, bias_initializer=keras.initializers.VarianceScaling())(FL1)\n",
        "#BN3    = keras.layers.BatchNormalization(axis=-1)(FC3)\n",
        "#AC3    = keras.layers.Activation('relu')(BN3)\n",
        "#DP3    = keras.layers.Dropout(0.2)(AC3)\n",
        "\n",
        "\n",
        "FC4    = keras.layers.Dense(2)(FL1)\n",
        "outputs = keras.layers.Activation('softmax')(FC4)\n",
        "\n",
        "myCNN5D4 = keras.Model(inputs=inputs,outputs=outputs)\n",
        "myCNN5D4.compile(optimizer=keras.optimizers.Adam(),\n",
        "                 loss='categorical_crossentropy',\n",
        "                 metrics=['accuracy'])\n",
        "\n",
        "myCNN5D4.summary()\n"
      ]
    },
    {
      "cell_type": "code",
      "execution_count": null,
      "metadata": {
        "id": "XNOpNNhRA_eT",
        "outputId": "f215a912-7d8f-4983-b34e-2e1646fa3bae",
        "colab": {
          "base_uri": "https://localhost:8080/"
        }
      },
      "outputs": [
        {
          "output_type": "stream",
          "name": "stdout",
          "text": [
            "171/171 [==============================] - 3s 6ms/step - loss: 0.7978 - accuracy: 0.7524\n"
          ]
        },
        {
          "output_type": "execute_result",
          "data": {
            "text/plain": [
              "<keras.callbacks.History at 0x7fed2a84a690>"
            ]
          },
          "metadata": {},
          "execution_count": 47
        }
      ],
      "source": [
        "class_weight = {0: 1, 1: 3.0}\n",
        "\n",
        "myCNN5D4.fit(x_train,y_train,epochs=1,verbose=1, class_weight=class_weight)"
      ]
    },
    {
      "cell_type": "code",
      "execution_count": null,
      "metadata": {
        "id": "7gczQTShA_eT",
        "outputId": "0a9a2f3b-d647-4093-928b-fbbb33c18df3",
        "colab": {
          "base_uri": "https://localhost:8080/"
        }
      },
      "outputs": [
        {
          "output_type": "stream",
          "name": "stdout",
          "text": [
            "122/122 [==============================] - 1s 3ms/step - loss: 0.3667 - accuracy: 0.8587\n",
            "0.8586536049842834\n"
          ]
        }
      ],
      "source": [
        "test_loss,test_acc = myCNN5D4.evaluate(x_test,y_test)\n",
        "print(test_acc)"
      ]
    },
    {
      "cell_type": "code",
      "execution_count": null,
      "metadata": {
        "id": "WHNtc3SXA_eT",
        "outputId": "d853d9ce-dc35-4e70-adc9-0b87b5843423",
        "colab": {
          "base_uri": "https://localhost:8080/"
        }
      },
      "outputs": [
        {
          "output_type": "stream",
          "name": "stdout",
          "text": [
            "[[3302   51]\n",
            " [ 497   27]]\n"
          ]
        }
      ],
      "source": [
        "from sklearn import metrics\n",
        "predlabel = myCNN5D4.predict(x_test)\n",
        "f = np.argmax(predlabel,axis=1)\n",
        "confMat = metrics.confusion_matrix(np.argmax(y_test,axis=1),f)\n",
        "print(confMat)"
      ]
    },
    {
      "cell_type": "markdown",
      "metadata": {
        "id": "NL-NlgtWA_eT"
      },
      "source": [
        "## Input => Dense(64) => Conv(2) => Dense (128) = Conv(4) => Dense (2)"
      ]
    },
    {
      "cell_type": "code",
      "execution_count": null,
      "metadata": {
        "id": "0A6fLj55A_eT",
        "outputId": "6272bfee-140b-4df1-937b-52b9b4de231a",
        "colab": {
          "base_uri": "https://localhost:8080/"
        }
      },
      "outputs": [
        {
          "output_type": "stream",
          "name": "stdout",
          "text": [
            "Model: \"model_7\"\n",
            "_________________________________________________________________\n",
            " Layer (type)                Output Shape              Param #   \n",
            "=================================================================\n",
            " input_8 (InputLayer)        [(None, 50, 1)]           0         \n",
            "                                                                 \n",
            " reshape_12 (Reshape)        (None, 50)                0         \n",
            "                                                                 \n",
            " dense_19 (Dense)            (None, 64)                3264      \n",
            "                                                                 \n",
            " batch_normalization_21 (Bat  (None, 64)               256       \n",
            " chNormalization)                                                \n",
            "                                                                 \n",
            " activation_28 (Activation)  (None, 64)                0         \n",
            "                                                                 \n",
            " dropout_10 (Dropout)        (None, 64)                0         \n",
            "                                                                 \n",
            " reshape_13 (Reshape)        (None, 64, 1)             0         \n",
            "                                                                 \n",
            " conv1d_9 (Conv1D)           (None, 62, 2)             8         \n",
            "                                                                 \n",
            " batch_normalization_22 (Bat  (None, 62, 2)            8         \n",
            " chNormalization)                                                \n",
            "                                                                 \n",
            " activation_29 (Activation)  (None, 62, 2)             0         \n",
            "                                                                 \n",
            " average_pooling1d_7 (Averag  (None, 31, 2)            0         \n",
            " ePooling1D)                                                     \n",
            "                                                                 \n",
            " flatten_5 (Flatten)         (None, 62)                0         \n",
            "                                                                 \n",
            " dense_20 (Dense)            (None, 128)               8064      \n",
            "                                                                 \n",
            " batch_normalization_23 (Bat  (None, 128)              512       \n",
            " chNormalization)                                                \n",
            "                                                                 \n",
            " activation_30 (Activation)  (None, 128)               0         \n",
            "                                                                 \n",
            " dropout_11 (Dropout)        (None, 128)               0         \n",
            "                                                                 \n",
            " reshape_14 (Reshape)        (None, 128, 1)            0         \n",
            "                                                                 \n",
            " conv1d_10 (Conv1D)          (None, 124, 4)            24        \n",
            "                                                                 \n",
            " batch_normalization_24 (Bat  (None, 124, 4)           16        \n",
            " chNormalization)                                                \n",
            "                                                                 \n",
            " activation_31 (Activation)  (None, 124, 4)            0         \n",
            "                                                                 \n",
            " average_pooling1d_8 (Averag  (None, 62, 4)            0         \n",
            " ePooling1D)                                                     \n",
            "                                                                 \n",
            " flatten_6 (Flatten)         (None, 248)               0         \n",
            "                                                                 \n",
            " dense_21 (Dense)            (None, 2)                 498       \n",
            "                                                                 \n",
            " activation_32 (Activation)  (None, 2)                 0         \n",
            "                                                                 \n",
            "=================================================================\n",
            "Total params: 12,650\n",
            "Trainable params: 12,254\n",
            "Non-trainable params: 396\n",
            "_________________________________________________________________\n"
          ]
        }
      ],
      "source": [
        "inputs = keras.layers.Input(shape=(x_train.shape[1],1))\n",
        "RS0    = keras.layers.Reshape((x_train.shape[1], ))(inputs)\n",
        "FC0    = keras.layers.Dense(64, bias_initializer=keras.initializers.VarianceScaling())(RS0)\n",
        "BN0    = keras.layers.BatchNormalization(axis=-1)(FC0)\n",
        "AC0    = keras.layers.Activation('relu')(BN0)\n",
        "DP0    = keras.layers.Dropout(0.2)(AC0)\n",
        "\n",
        "RS1    = keras.layers.Reshape((64,1))(DP0)\n",
        "FC1    = keras.layers.Conv1D(2,3,strides=1)(RS1)\n",
        "BN1    = keras.layers.BatchNormalization(axis=-1)(FC1)\n",
        "AC1    = keras.layers.Activation('relu')(BN1)\n",
        "Pool1  = keras.layers.AveragePooling1D(pool_size=2)(AC1)\n",
        "\n",
        "FL0 = keras.layers.Flatten()(Pool1)\n",
        "\n",
        "AA1 = keras.layers.Dense(128, bias_initializer=keras.initializers.VarianceScaling())(FL0)\n",
        "BB1 = keras.layers.BatchNormalization(axis=-1)(AA1)\n",
        "CC1 = keras.layers.Activation('relu')(BB1)\n",
        "Pool2 = keras.layers.Dropout(0.2)(CC1)\n",
        "\n",
        "\n",
        "RS2    = keras.layers.Reshape((128,1))(Pool2)\n",
        "FC2    = keras.layers.Conv1D(4,5,strides=1)(RS2)\n",
        "BN2    = keras.layers.BatchNormalization(axis=-1)(FC2)\n",
        "AC2    = keras.layers.Activation('relu')(BN2)\n",
        "Pool3  = keras.layers.AveragePooling1D(pool_size=2)(AC2)\n",
        "\n",
        "\n",
        "\n",
        "FL1    = keras.layers.Flatten()(Pool3)\n",
        "\n",
        "#FC3    = keras.layers.Dense(512, bias_initializer=keras.initializers.VarianceScaling())(FL1)\n",
        "#BN3    = keras.layers.BatchNormalization(axis=-1)(FC3)\n",
        "#AC3    = keras.layers.Activation('relu')(BN3)\n",
        "#DP3    = keras.layers.Dropout(0.2)(AC3)\n",
        "\n",
        "\n",
        "FC4    = keras.layers.Dense(2)(FL1)\n",
        "outputs = keras.layers.Activation('softmax')(FC4)\n",
        "\n",
        "myCNN5D4 = keras.Model(inputs=inputs,outputs=outputs)\n",
        "myCNN5D4.compile(optimizer=keras.optimizers.Adam(),\n",
        "                 loss='categorical_crossentropy',\n",
        "                 metrics=['accuracy'])\n",
        "\n",
        "myCNN5D4.summary()"
      ]
    },
    {
      "cell_type": "code",
      "execution_count": null,
      "metadata": {
        "scrolled": true,
        "id": "rl12EM6VA_eU",
        "outputId": "601bf5b5-242b-48c8-919e-4019eefc3540",
        "colab": {
          "base_uri": "https://localhost:8080/"
        }
      },
      "outputs": [
        {
          "output_type": "stream",
          "name": "stdout",
          "text": [
            "171/171 [==============================] - 3s 8ms/step - loss: 0.3407 - accuracy: 0.9120\n"
          ]
        },
        {
          "output_type": "execute_result",
          "data": {
            "text/plain": [
              "<keras.callbacks.History at 0x7fed2a3a9ad0>"
            ]
          },
          "metadata": {},
          "execution_count": 51
        }
      ],
      "source": [
        "class_weight = {0: 1, 1: 2.5}\n",
        "\n",
        "myCNN5D4.fit(x_train,y_train,epochs=1,verbose=1, class_weight=class_weight)"
      ]
    },
    {
      "cell_type": "code",
      "execution_count": null,
      "metadata": {
        "id": "WnD1IX3BA_eU",
        "outputId": "1d75491b-4b94-4bdb-9ddc-099301cf2c04",
        "colab": {
          "base_uri": "https://localhost:8080/"
        }
      },
      "outputs": [
        {
          "output_type": "stream",
          "name": "stdout",
          "text": [
            "122/122 [==============================] - 1s 3ms/step - loss: 0.1938 - accuracy: 0.9946\n",
            "0.9945834279060364\n"
          ]
        }
      ],
      "source": [
        "test_loss,test_acc = myCNN5D4.evaluate(x_test,y_test)\n",
        "print(test_acc)"
      ]
    },
    {
      "cell_type": "code",
      "execution_count": null,
      "metadata": {
        "id": "5-kclaXvA_eU",
        "outputId": "95194ed0-1051-42f2-e108-bb4122c1c89e",
        "colab": {
          "base_uri": "https://localhost:8080/"
        }
      },
      "outputs": [
        {
          "output_type": "stream",
          "name": "stdout",
          "text": [
            "[[3353    0]\n",
            " [  21  503]]\n"
          ]
        }
      ],
      "source": [
        "from sklearn import metrics\n",
        "predlabel = myCNN5D4.predict(x_test)\n",
        "f = np.argmax(predlabel,axis=1)\n",
        "confMat = metrics.confusion_matrix(np.argmax(y_test,axis=1),f)\n",
        "print(confMat)"
      ]
    },
    {
      "cell_type": "markdown",
      "metadata": {
        "id": "oDaNYN8vA_eU"
      },
      "source": [
        "# Running SVM on the subsampled data"
      ]
    },
    {
      "cell_type": "code",
      "execution_count": null,
      "metadata": {
        "id": "FCz26DyOA_eV",
        "outputId": "b1a8f71a-3648-48bb-8c3d-c3798e802c87",
        "colab": {
          "base_uri": "https://localhost:8080/"
        }
      },
      "outputs": [
        {
          "output_type": "stream",
          "name": "stdout",
          "text": [
            "[[3345    8]\n",
            " [   0  524]]\n"
          ]
        }
      ],
      "source": [
        "from sklearn.svm import SVC\n",
        "from sklearn import metrics\n",
        "\n",
        "svcCAD = SVC(C= 0.05, gamma=1/41, kernel='rbf', class_weight='balanced')\n",
        "svcCAD.fit(x_train_org,y_train_org)\n",
        "predlabel = svcCAD.predict(x_test_org)\n",
        "confMat = metrics.confusion_matrix(y_test_org,predlabel)\n",
        "print(confMat)"
      ]
    },
    {
      "cell_type": "markdown",
      "metadata": {
        "id": "JzNkqfteA_eV"
      },
      "source": [
        "# Running random forest and adaboost"
      ]
    },
    {
      "cell_type": "code",
      "execution_count": null,
      "metadata": {
        "scrolled": true,
        "id": "W7Q2pgvjA_eV",
        "outputId": "f92848a7-023b-40df-f972-018ae3529488",
        "colab": {
          "base_uri": "https://localhost:8080/"
        }
      },
      "outputs": [
        {
          "output_type": "stream",
          "name": "stdout",
          "text": [
            "[[3353    0]\n",
            " [   0  524]]\n"
          ]
        }
      ],
      "source": [
        "from sklearn.ensemble import RandomForestClassifier, AdaBoostClassifier\n",
        "class_weight = {0: 1, 1: 3}\n",
        "adaboostCAD = AdaBoostClassifier(n_estimators=1000, random_state=0)\n",
        "adaboostCAD.fit(x_train_org,y_train_org)\n",
        "predlabel = adaboostCAD.predict(x_test_org)\n",
        "confMat = metrics.confusion_matrix(y_test_org,predlabel)\n",
        "print(confMat)"
      ]
    },
    {
      "cell_type": "code",
      "execution_count": null,
      "metadata": {
        "id": "3GxjJFyGA_eV",
        "outputId": "0e84f093-ffd5-4c40-a8d5-45ceec8278ef",
        "colab": {
          "base_uri": "https://localhost:8080/"
        }
      },
      "outputs": [
        {
          "output_type": "execute_result",
          "data": {
            "text/plain": [
              "GridSearchCV(cv=5,\n",
              "             estimator=RandomForestClassifier(class_weight='balanced_subsample',\n",
              "                                              random_state=0),\n",
              "             param_grid={'max_depth': (2, 3),\n",
              "                         'n_estimators': (10, 30, 50, 100, 130, 160, 200)})"
            ]
          },
          "metadata": {},
          "execution_count": 56
        }
      ],
      "source": [
        "from sklearn.ensemble import RandomForestClassifier\n",
        "from sklearn.model_selection import GridSearchCV\n",
        "\n",
        "#randomforestCAD = RandomForestClassifier(max_depth=3, random_state=0, class_weight='balanced_subsample')\n",
        "\n",
        "parameters = {'n_estimators': (10,30,50,100,130,160,200), 'max_depth': (2, 3)}\n",
        "randomforestCAD = GridSearchCV(RandomForestClassifier(random_state=0, class_weight='balanced_subsample'),\n",
        "                               parameters, cv=5)\n",
        "\n",
        "\n",
        "\n",
        "randomforestCAD.fit(x_train_org,y_train_org)\n",
        "#predlabel = randomforestCAD.predict(x_test_org)\n",
        "#confMat = metrics.confusion_matrix(y_test_org,predlabel)\n",
        "#print(confMat)\n"
      ]
    },
    {
      "cell_type": "code",
      "execution_count": null,
      "metadata": {
        "id": "B-5KQJ0EA_eV",
        "outputId": "46542c53-318b-40a0-c473-ead5fa805cf7",
        "colab": {
          "base_uri": "https://localhost:8080/"
        }
      },
      "outputs": [
        {
          "output_type": "stream",
          "name": "stdout",
          "text": [
            "{'mean_fit_time': array([0.09575377, 0.26154385, 0.6171824 , 0.7035409 , 0.46502557,\n",
            "       0.52822795, 0.65941415, 0.03647647, 0.10373206, 0.23944569,\n",
            "       0.35001783, 0.45270348, 0.55996485, 0.88134422]), 'std_fit_time': array([0.02141969, 0.05058237, 0.27444192, 0.18370171, 0.06994261,\n",
            "       0.00871314, 0.01471513, 0.00123936, 0.00274504, 0.08973045,\n",
            "       0.00894873, 0.00460405, 0.00578538, 0.18334759]), 'mean_score_time': array([0.00657363, 0.01829376, 0.02893348, 0.05341449, 0.02398238,\n",
            "       0.02841358, 0.03636308, 0.00307908, 0.00636191, 0.02330031,\n",
            "       0.02036715, 0.02622008, 0.03140807, 0.04615784]), 'std_score_time': array([0.0029881 , 0.01223137, 0.01224813, 0.02865155, 0.00085699,\n",
            "       0.00026234, 0.00262112, 0.00028161, 0.0001412 , 0.01579464,\n",
            "       0.00210146, 0.00174483, 0.00363638, 0.01155269]), 'param_max_depth': masked_array(data=[2, 2, 2, 2, 2, 2, 2, 3, 3, 3, 3, 3, 3, 3],\n",
            "             mask=[False, False, False, False, False, False, False, False,\n",
            "                   False, False, False, False, False, False],\n",
            "       fill_value='?',\n",
            "            dtype=object), 'param_n_estimators': masked_array(data=[10, 30, 50, 100, 130, 160, 200, 10, 30, 50, 100, 130,\n",
            "                   160, 200],\n",
            "             mask=[False, False, False, False, False, False, False, False,\n",
            "                   False, False, False, False, False, False],\n",
            "       fill_value='?',\n",
            "            dtype=object), 'params': [{'max_depth': 2, 'n_estimators': 10}, {'max_depth': 2, 'n_estimators': 30}, {'max_depth': 2, 'n_estimators': 50}, {'max_depth': 2, 'n_estimators': 100}, {'max_depth': 2, 'n_estimators': 130}, {'max_depth': 2, 'n_estimators': 160}, {'max_depth': 2, 'n_estimators': 200}, {'max_depth': 3, 'n_estimators': 10}, {'max_depth': 3, 'n_estimators': 30}, {'max_depth': 3, 'n_estimators': 50}, {'max_depth': 3, 'n_estimators': 100}, {'max_depth': 3, 'n_estimators': 130}, {'max_depth': 3, 'n_estimators': 160}, {'max_depth': 3, 'n_estimators': 200}], 'split0_test_score': array([1.        , 0.988117  , 0.99634369, 0.97714808, 0.98446069,\n",
            "       0.98171846, 0.98628885, 1.        , 1.        , 1.        ,\n",
            "       0.98537477, 0.99177331, 0.99542962, 1.        ]), 'split1_test_score': array([0.99085923, 0.99268739, 0.98720293, 0.97531993, 0.98263254,\n",
            "       0.97531993, 0.97806216, 0.92687386, 0.99817185, 0.99817185,\n",
            "       0.98263254, 0.99725777, 0.99908592, 1.        ]), 'split2_test_score': array([1., 1., 1., 1., 1., 1., 1., 1., 1., 1., 1., 1., 1., 1.]), 'split3_test_score': array([1., 1., 1., 1., 1., 1., 1., 1., 1., 1., 1., 1., 1., 1.]), 'split4_test_score': array([1., 1., 1., 1., 1., 1., 1., 1., 1., 1., 1., 1., 1., 1.]), 'mean_test_score': array([0.99817185, 0.99616088, 0.99670932, 0.9904936 , 0.99341865,\n",
            "       0.99140768, 0.9928702 , 0.98537477, 0.99963437, 0.99963437,\n",
            "       0.99360146, 0.99780622, 0.99890311, 1.        ]), 'std_test_score': array([0.00365631, 0.00491906, 0.00495966, 0.01165726, 0.00808118,\n",
            "       0.01071616, 0.00911147, 0.02925046, 0.00073126, 0.00073126,\n",
            "       0.00788441, 0.00319796, 0.00177246, 0.        ]), 'rank_test_score': array([ 5,  8,  7, 13, 10, 12, 11, 14,  2,  2,  9,  6,  4,  1],\n",
            "      dtype=int32)}\n",
            "RandomForestClassifier(class_weight='balanced_subsample', max_depth=3,\n",
            "                       n_estimators=200, random_state=0)\n"
          ]
        }
      ],
      "source": [
        "print(randomforestCAD.cv_results_)\n",
        "print(randomforestCAD.best_estimator_)"
      ]
    },
    {
      "cell_type": "markdown",
      "metadata": {
        "id": "__34WULEA_eW"
      },
      "source": [
        "# The following section shows the result when 70% of data are used for training"
      ]
    },
    {
      "cell_type": "code",
      "execution_count": null,
      "metadata": {
        "id": "3hdAMTszA_eW"
      },
      "outputs": [],
      "source": [
        "# With train-test split\n",
        "from sklearn.model_selection import train_test_split\n",
        "X_train, X_test, Y_train, Y_test = train_test_split(reduced_data, opLabel, test_size = 0.3, random_state = 24)"
      ]
    },
    {
      "cell_type": "code",
      "execution_count": null,
      "metadata": {
        "id": "dJqwJytVA_eW"
      },
      "outputs": [],
      "source": [
        "scaler = preprocessing.StandardScaler().fit(X_train)\n",
        "X_train = scaler.transform(X_train)\n",
        "X_test  = scaler.transform(X_test)\n",
        "X_train = X_train.reshape(X_train.shape[0],X_train.shape[1],1)\n",
        "X_test = X_test.reshape(X_test.shape[0],X_test.shape[1],1)"
      ]
    },
    {
      "cell_type": "code",
      "execution_count": null,
      "metadata": {
        "id": "t3q1gLWwA_eW"
      },
      "outputs": [],
      "source": [
        "#%% one-hot-encoding\n",
        "Y_train = keras.utils.to_categorical(Y_train,2)\n",
        "Y_test  = keras.utils.to_categorical(Y_test,2)"
      ]
    },
    {
      "cell_type": "code",
      "execution_count": null,
      "metadata": {
        "id": "Nsf7ktjaA_eW",
        "outputId": "5f431940-35c8-439b-8201-ef4f8d8176a6",
        "colab": {
          "base_uri": "https://localhost:8080/"
        }
      },
      "outputs": [
        {
          "output_type": "stream",
          "name": "stdout",
          "text": [
            "Model: \"model_8\"\n",
            "_________________________________________________________________\n",
            " Layer (type)                Output Shape              Param #   \n",
            "=================================================================\n",
            " input_9 (InputLayer)        [(None, 50, 1)]           0         \n",
            "                                                                 \n",
            " reshape_15 (Reshape)        (None, 50)                0         \n",
            "                                                                 \n",
            " dense_22 (Dense)            (None, 512)               26112     \n",
            "                                                                 \n",
            " batch_normalization_25 (Bat  (None, 512)              2048      \n",
            " chNormalization)                                                \n",
            "                                                                 \n",
            " activation_33 (Activation)  (None, 512)               0         \n",
            "                                                                 \n",
            " dropout_12 (Dropout)        (None, 512)               0         \n",
            "                                                                 \n",
            " dense_23 (Dense)            (None, 128)               65664     \n",
            "                                                                 \n",
            " batch_normalization_26 (Bat  (None, 128)              512       \n",
            " chNormalization)                                                \n",
            "                                                                 \n",
            " activation_34 (Activation)  (None, 128)               0         \n",
            "                                                                 \n",
            " dropout_13 (Dropout)        (None, 128)               0         \n",
            "                                                                 \n",
            " dense_24 (Dense)            (None, 2)                 258       \n",
            "                                                                 \n",
            " activation_35 (Activation)  (None, 2)                 0         \n",
            "                                                                 \n",
            "=================================================================\n",
            "Total params: 94,594\n",
            "Trainable params: 93,314\n",
            "Non-trainable params: 1,280\n",
            "_________________________________________________________________\n"
          ]
        },
        {
          "output_type": "stream",
          "name": "stderr",
          "text": [
            "/usr/local/lib/python3.7/dist-packages/keras/optimizer_v2/adam.py:105: UserWarning: The `lr` argument is deprecated, use `learning_rate` instead.\n",
            "  super(Adam, self).__init__(name, **kwargs)\n"
          ]
        }
      ],
      "source": [
        "# MLP -2\n",
        "inputs = keras.layers.Input(shape=(x_train.shape[1],1))\n",
        "RS0    = keras.layers.Reshape((x_train.shape[1], ))(inputs)\n",
        "FC0    = keras.layers.Dense(512, bias_initializer=keras.initializers.VarianceScaling())(RS0)\n",
        "BN0    = keras.layers.BatchNormalization(axis=-1)(FC0)\n",
        "AC0    = keras.layers.Activation('relu')(BN0)\n",
        "DP0    = keras.layers.Dropout(0.2)(AC0)\n",
        "\n",
        "FC1    = keras.layers.Dense(128, bias_initializer=keras.initializers.VarianceScaling())(DP0)\n",
        "BN1    = keras.layers.BatchNormalization(axis=-1)(FC1)\n",
        "AC1    = keras.layers.Activation('relu')(BN1)\n",
        "DP1    = keras.layers.Dropout(0.2)(AC1)\n",
        "\n",
        "\n",
        "FC2 =   keras.layers.Dense(2, bias_initializer=keras.initializers.VarianceScaling())(DP1)\n",
        "outputs = keras.layers.Activation('softmax')(FC2)\n",
        "\n",
        "myMLP = keras.Model(inputs=inputs,outputs=outputs)\n",
        "myMLP.compile(optimizer=keras.optimizers.Adam(lr=0.01),\n",
        "                 loss='categorical_crossentropy',\n",
        "                 metrics=['accuracy'])\n",
        "myMLP.summary()\n"
      ]
    },
    {
      "cell_type": "code",
      "execution_count": null,
      "metadata": {
        "id": "ZNMvxuXGA_eX",
        "outputId": "c7c72545-ec2f-4757-cc83-2dfbfca1f3ac",
        "colab": {
          "base_uri": "https://localhost:8080/"
        }
      },
      "outputs": [
        {
          "output_type": "execute_result",
          "data": {
            "text/plain": [
              "(6542,)"
            ]
          },
          "metadata": {},
          "execution_count": 63
        }
      ],
      "source": [
        "np.where(Y_train==0)[0].shape\n",
        "np.where(Y_train==1)[0].shape\n"
      ]
    },
    {
      "cell_type": "code",
      "execution_count": null,
      "metadata": {
        "scrolled": true,
        "id": "99MarAlLA_eX",
        "outputId": "181c24c9-9fd2-445c-c9af-2cb58c5c0457",
        "colab": {
          "base_uri": "https://localhost:8080/"
        }
      },
      "outputs": [
        {
          "output_type": "stream",
          "name": "stdout",
          "text": [
            "Epoch 1/10\n",
            "6/6 [==============================] - 1s 35ms/step - loss: 1.9376 - accuracy: 0.6842\n",
            "Epoch 2/10\n",
            "6/6 [==============================] - 0s 38ms/step - loss: 0.3387 - accuracy: 0.9032\n",
            "Epoch 3/10\n",
            "6/6 [==============================] - 0s 39ms/step - loss: 0.1644 - accuracy: 0.9778\n",
            "Epoch 4/10\n",
            "6/6 [==============================] - 0s 37ms/step - loss: 0.0734 - accuracy: 0.9989\n",
            "Epoch 5/10\n",
            "6/6 [==============================] - 0s 37ms/step - loss: 0.0489 - accuracy: 0.9998\n",
            "Epoch 6/10\n",
            "6/6 [==============================] - 0s 35ms/step - loss: 0.0315 - accuracy: 0.9998\n",
            "Epoch 7/10\n",
            "6/6 [==============================] - 0s 41ms/step - loss: 0.0215 - accuracy: 0.9998\n",
            "Epoch 8/10\n",
            "6/6 [==============================] - 0s 36ms/step - loss: 0.0087 - accuracy: 1.0000\n",
            "Epoch 9/10\n",
            "6/6 [==============================] - 0s 36ms/step - loss: 0.0091 - accuracy: 1.0000\n",
            "Epoch 10/10\n",
            "6/6 [==============================] - 0s 36ms/step - loss: 0.0068 - accuracy: 0.9998\n"
          ]
        },
        {
          "output_type": "execute_result",
          "data": {
            "text/plain": [
              "<keras.callbacks.History at 0x7fed26d71510>"
            ]
          },
          "metadata": {},
          "execution_count": 64
        }
      ],
      "source": [
        "class_weight = {0: 1, 1: 40}\n",
        "\n",
        "myMLP.fit(X_train,Y_train,epochs=10,batch_size=1200,verbose=1, class_weight=class_weight)"
      ]
    },
    {
      "cell_type": "code",
      "execution_count": null,
      "metadata": {
        "id": "nzVQFo3VA_eX",
        "outputId": "ad44e142-8e16-448a-a080-454df3b948c6",
        "colab": {
          "base_uri": "https://localhost:8080/"
        }
      },
      "outputs": [
        {
          "output_type": "stream",
          "name": "stdout",
          "text": [
            "88/88 [==============================] - 0s 2ms/step - loss: 0.0070 - accuracy: 1.0000\n",
            "1.0\n"
          ]
        }
      ],
      "source": [
        "test_loss,test_acc = myMLP.evaluate(X_test,Y_test)\n",
        "print(test_acc)"
      ]
    },
    {
      "cell_type": "code",
      "execution_count": null,
      "metadata": {
        "id": "5mjrVhf9A_eX",
        "outputId": "9780949c-b8c5-4aa9-83ff-b3a16ddb6031",
        "colab": {
          "base_uri": "https://localhost:8080/"
        }
      },
      "outputs": [
        {
          "output_type": "stream",
          "name": "stdout",
          "text": [
            "[[2302    0]\n",
            " [   0  502]]\n"
          ]
        }
      ],
      "source": [
        "from sklearn import metrics\n",
        "predlabel = myMLP.predict(X_test)\n",
        "f = np.argmax(predlabel,axis=1)\n",
        "confMat = metrics.confusion_matrix(np.argmax(Y_test,axis=1),f)\n",
        "print(confMat)"
      ]
    },
    {
      "cell_type": "markdown",
      "metadata": {
        "id": "4LE3xzwYA_eY"
      },
      "source": [
        "## Logistic Regression"
      ]
    },
    {
      "cell_type": "code",
      "execution_count": null,
      "metadata": {
        "id": "_Tslw9N9A_eY",
        "outputId": "8ada9c72-6265-49c3-94ff-208f45f27141",
        "colab": {
          "base_uri": "https://localhost:8080/"
        }
      },
      "outputs": [
        {
          "output_type": "stream",
          "name": "stderr",
          "text": [
            "[Parallel(n_jobs=1)]: Using backend SequentialBackend with 1 concurrent workers.\n",
            "[Parallel(n_jobs=1)]: Done   1 out of   1 | elapsed:    0.1s finished\n"
          ]
        }
      ],
      "source": [
        "from sklearn.linear_model import LogisticRegression\n",
        "clf = LogisticRegression(solver = 'lbfgs',max_iter=100000, \n",
        "                           class_weight= {0:1, 1:3.0}, verbose=1, random_state = 2)\n",
        "model = clf.fit(x_train_org,y_train_org)"
      ]
    },
    {
      "cell_type": "code",
      "execution_count": null,
      "metadata": {
        "id": "EL3ZE8MTA_eY"
      },
      "outputs": [],
      "source": [
        "predlabel = model.predict(x_test_org)\n",
        "confMat = metrics.confusion_matrix(y_test_org,predlabel)"
      ]
    },
    {
      "cell_type": "code",
      "execution_count": null,
      "metadata": {
        "id": "5gxJ1ulxA_eY",
        "outputId": "f130b2a7-46be-4440-daf6-3e7843c1865b",
        "colab": {
          "base_uri": "https://localhost:8080/"
        }
      },
      "outputs": [
        {
          "output_type": "stream",
          "name": "stdout",
          "text": [
            "[[3353    0]\n",
            " [   0  524]]\n"
          ]
        }
      ],
      "source": [
        "print(confMat)"
      ]
    }
  ],
  "metadata": {
    "kernelspec": {
      "display_name": "Python 3",
      "language": "python",
      "name": "python3"
    },
    "language_info": {
      "codemirror_mode": {
        "name": "ipython",
        "version": 3
      },
      "file_extension": ".py",
      "mimetype": "text/x-python",
      "name": "python",
      "nbconvert_exporter": "python",
      "pygments_lexer": "ipython3",
      "version": "3.7.4"
    },
    "toc": {
      "base_numbering": 1,
      "nav_menu": {},
      "number_sections": true,
      "sideBar": true,
      "skip_h1_title": false,
      "title_cell": "Table of Contents",
      "title_sidebar": "Contents",
      "toc_cell": false,
      "toc_position": {},
      "toc_section_display": true,
      "toc_window_display": true
    },
    "colab": {
      "name": "CNN_training.ipynb",
      "provenance": []
    }
  },
  "nbformat": 4,
  "nbformat_minor": 0
}